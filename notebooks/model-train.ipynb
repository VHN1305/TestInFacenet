{
 "cells": [
  {
   "cell_type": "code",
   "execution_count": 1,
   "id": "5e6a72ae",
   "metadata": {
    "_cell_guid": "b1076dfc-b9ad-4769-8c92-a6c4dae69d19",
    "_uuid": "8f2839f25d086af736a60e9eeb907d3b93b6e0e5",
    "execution": {
     "iopub.execute_input": "2023-11-22T23:19:52.275526Z",
     "iopub.status.busy": "2023-11-22T23:19:52.275127Z",
     "iopub.status.idle": "2023-11-22T23:20:04.894411Z",
     "shell.execute_reply": "2023-11-22T23:20:04.893561Z"
    },
    "papermill": {
     "duration": 12.636203,
     "end_time": "2023-11-22T23:20:04.896878",
     "exception": false,
     "start_time": "2023-11-22T23:19:52.260675",
     "status": "completed"
    },
    "tags": []
   },
   "outputs": [
    {
     "name": "stderr",
     "output_type": "stream",
     "text": [
      "/opt/conda/lib/python3.10/site-packages/scipy/__init__.py:146: UserWarning: A NumPy version >=1.16.5 and <1.23.0 is required for this version of SciPy (detected version 1.24.3\n",
      "  warnings.warn(f\"A NumPy version >={np_minversion} and <{np_maxversion}\"\n"
     ]
    }
   ],
   "source": [
    "import pandas as pd\n",
    "import sklearn\n",
    "import tensorflow as tf\n",
    "from sklearn.metrics import precision_score, recall_score, average_precision_score\n",
    "import numpy as np\n",
    "from keras.callbacks import Callback"
   ]
  },
  {
   "cell_type": "code",
   "execution_count": 2,
   "id": "dad5c6b5",
   "metadata": {
    "execution": {
     "iopub.execute_input": "2023-11-22T23:20:04.923025Z",
     "iopub.status.busy": "2023-11-22T23:20:04.922455Z",
     "iopub.status.idle": "2023-11-22T23:20:04.928608Z",
     "shell.execute_reply": "2023-11-22T23:20:04.927662Z"
    },
    "papermill": {
     "duration": 0.021131,
     "end_time": "2023-11-22T23:20:04.930659",
     "exception": false,
     "start_time": "2023-11-22T23:20:04.909528",
     "status": "completed"
    },
    "tags": []
   },
   "outputs": [],
   "source": [
    "def read_data(path, train_path, test_path):\n",
    "    train_data = pd.read_csv(path + train_path)\n",
    "    test_data = pd.read_csv(path + test_path)\n",
    "    train_data[\"_id\"] = train_data[\"_id\"].apply(lambda x: x + \".jpg\")\n",
    "    test_data[\"_id\"] = test_data[\"_id\"].apply(lambda x: x + \".jpg\")\n",
    "    return train_data, test_data"
   ]
  },
  {
   "cell_type": "code",
   "execution_count": 3,
   "id": "76d22e48",
   "metadata": {
    "execution": {
     "iopub.execute_input": "2023-11-22T23:20:04.955125Z",
     "iopub.status.busy": "2023-11-22T23:20:04.954828Z",
     "iopub.status.idle": "2023-11-22T23:20:05.446311Z",
     "shell.execute_reply": "2023-11-22T23:20:05.445524Z"
    },
    "papermill": {
     "duration": 0.506301,
     "end_time": "2023-11-22T23:20:05.448746",
     "exception": false,
     "start_time": "2023-11-22T23:20:04.942445",
     "status": "completed"
    },
    "tags": []
   },
   "outputs": [],
   "source": [
    "path = \"/kaggle/input/pizza-image-error-classification/\"\n",
    "train_path = \"data/pizza_train.csv\"\n",
    "test_path = \"data/pizza_test.csv\"\n",
    "train_data, test_data = read_data(path, train_path, test_path)"
   ]
  },
  {
   "cell_type": "code",
   "execution_count": 4,
   "id": "e191a269",
   "metadata": {
    "execution": {
     "iopub.execute_input": "2023-11-22T23:20:05.474492Z",
     "iopub.status.busy": "2023-11-22T23:20:05.474164Z",
     "iopub.status.idle": "2023-11-22T23:20:05.498401Z",
     "shell.execute_reply": "2023-11-22T23:20:05.497452Z"
    },
    "papermill": {
     "duration": 0.039704,
     "end_time": "2023-11-22T23:20:05.500652",
     "exception": false,
     "start_time": "2023-11-22T23:20:05.460948",
     "status": "completed"
    },
    "tags": []
   },
   "outputs": [
    {
     "data": {
      "text/html": [
       "<div>\n",
       "<style scoped>\n",
       "    .dataframe tbody tr th:only-of-type {\n",
       "        vertical-align: middle;\n",
       "    }\n",
       "\n",
       "    .dataframe tbody tr th {\n",
       "        vertical-align: top;\n",
       "    }\n",
       "\n",
       "    .dataframe thead th {\n",
       "        text-align: right;\n",
       "    }\n",
       "</style>\n",
       "<table border=\"1\" class=\"dataframe\">\n",
       "  <thead>\n",
       "    <tr style=\"text-align: right;\">\n",
       "      <th></th>\n",
       "      <th>_id</th>\n",
       "      <th>image_url</th>\n",
       "      <th>Cháy_Baking-Burnt</th>\n",
       "      <th>Khôngđốm_Baking-Doesnothaveleopard-spotting</th>\n",
       "      <th>Màunhạt_Baking-Pale</th>\n",
       "      <th>Lênmenthiếu_Fermentation-Lackfermentation</th>\n",
       "      <th>Lênmenquánhiều_Fermentation-Overfermentation</th>\n",
       "      <th>Viềnkđều_Edge-Uneven</th>\n",
       "      <th>Viềnnhỏ_Edge-Toosmall</th>\n",
       "      <th>Viềnto_Edge-Toobig</th>\n",
       "      <th>...</th>\n",
       "      <th>Quátậptrung_Topping-Toppingtoocentered</th>\n",
       "      <th>Topping-Khôngđều_Noteven</th>\n",
       "      <th>Khônghìnhtròn_Topping-Notcircled</th>\n",
       "      <th>Thiếubóng_toofewballs</th>\n",
       "      <th>Nởviềnkhôngđủ_edgepizzaisnotenoughswollen</th>\n",
       "      <th>Bánhkhôngtròn_Distortedshape</th>\n",
       "      <th>Bánhbé_Size-Toosmall</th>\n",
       "      <th>Bánhlớn_Size-Toobig</th>\n",
       "      <th>Phômaicao_Topping-Cheesetoohigh</th>\n",
       "      <th>image_error</th>\n",
       "    </tr>\n",
       "  </thead>\n",
       "  <tbody>\n",
       "    <tr>\n",
       "      <th>0</th>\n",
       "      <td>644a51aae280ef002847f69e.jpg</td>\n",
       "      <td>https://oven-bucket.pizza4ps.io/images/2023042...</td>\n",
       "      <td>0</td>\n",
       "      <td>0</td>\n",
       "      <td>0</td>\n",
       "      <td>0</td>\n",
       "      <td>0</td>\n",
       "      <td>0</td>\n",
       "      <td>0</td>\n",
       "      <td>0</td>\n",
       "      <td>...</td>\n",
       "      <td>0</td>\n",
       "      <td>0</td>\n",
       "      <td>0</td>\n",
       "      <td>0</td>\n",
       "      <td>0</td>\n",
       "      <td>0</td>\n",
       "      <td>0</td>\n",
       "      <td>0</td>\n",
       "      <td>0</td>\n",
       "      <td>1</td>\n",
       "    </tr>\n",
       "    <tr>\n",
       "      <th>1</th>\n",
       "      <td>644a5224e280ef002847f6a1.jpg</td>\n",
       "      <td>https://oven-bucket.pizza4ps.io/images/2023042...</td>\n",
       "      <td>0</td>\n",
       "      <td>0</td>\n",
       "      <td>0</td>\n",
       "      <td>0</td>\n",
       "      <td>0</td>\n",
       "      <td>0</td>\n",
       "      <td>0</td>\n",
       "      <td>0</td>\n",
       "      <td>...</td>\n",
       "      <td>0</td>\n",
       "      <td>0</td>\n",
       "      <td>0</td>\n",
       "      <td>0</td>\n",
       "      <td>0</td>\n",
       "      <td>0</td>\n",
       "      <td>0</td>\n",
       "      <td>0</td>\n",
       "      <td>0</td>\n",
       "      <td>1</td>\n",
       "    </tr>\n",
       "    <tr>\n",
       "      <th>2</th>\n",
       "      <td>644a52d0e280ef002847f6ab.jpg</td>\n",
       "      <td>https://oven-bucket.pizza4ps.io/images/2023042...</td>\n",
       "      <td>0</td>\n",
       "      <td>0</td>\n",
       "      <td>0</td>\n",
       "      <td>0</td>\n",
       "      <td>0</td>\n",
       "      <td>0</td>\n",
       "      <td>0</td>\n",
       "      <td>0</td>\n",
       "      <td>...</td>\n",
       "      <td>0</td>\n",
       "      <td>0</td>\n",
       "      <td>0</td>\n",
       "      <td>0</td>\n",
       "      <td>0</td>\n",
       "      <td>0</td>\n",
       "      <td>0</td>\n",
       "      <td>0</td>\n",
       "      <td>0</td>\n",
       "      <td>1</td>\n",
       "    </tr>\n",
       "    <tr>\n",
       "      <th>3</th>\n",
       "      <td>644a5370e280ef002847f6b0.jpg</td>\n",
       "      <td>https://oven-bucket.pizza4ps.io/images/2023042...</td>\n",
       "      <td>0</td>\n",
       "      <td>0</td>\n",
       "      <td>0</td>\n",
       "      <td>0</td>\n",
       "      <td>0</td>\n",
       "      <td>0</td>\n",
       "      <td>0</td>\n",
       "      <td>0</td>\n",
       "      <td>...</td>\n",
       "      <td>0</td>\n",
       "      <td>0</td>\n",
       "      <td>0</td>\n",
       "      <td>0</td>\n",
       "      <td>0</td>\n",
       "      <td>0</td>\n",
       "      <td>0</td>\n",
       "      <td>0</td>\n",
       "      <td>0</td>\n",
       "      <td>1</td>\n",
       "    </tr>\n",
       "    <tr>\n",
       "      <th>4</th>\n",
       "      <td>644a5381e280ef002847f6b2.jpg</td>\n",
       "      <td>https://oven-bucket.pizza4ps.io/images/2023042...</td>\n",
       "      <td>0</td>\n",
       "      <td>0</td>\n",
       "      <td>0</td>\n",
       "      <td>0</td>\n",
       "      <td>0</td>\n",
       "      <td>0</td>\n",
       "      <td>0</td>\n",
       "      <td>0</td>\n",
       "      <td>...</td>\n",
       "      <td>0</td>\n",
       "      <td>0</td>\n",
       "      <td>0</td>\n",
       "      <td>0</td>\n",
       "      <td>0</td>\n",
       "      <td>0</td>\n",
       "      <td>0</td>\n",
       "      <td>0</td>\n",
       "      <td>0</td>\n",
       "      <td>1</td>\n",
       "    </tr>\n",
       "  </tbody>\n",
       "</table>\n",
       "<p>5 rows × 26 columns</p>\n",
       "</div>"
      ],
      "text/plain": [
       "                            _id  \\\n",
       "0  644a51aae280ef002847f69e.jpg   \n",
       "1  644a5224e280ef002847f6a1.jpg   \n",
       "2  644a52d0e280ef002847f6ab.jpg   \n",
       "3  644a5370e280ef002847f6b0.jpg   \n",
       "4  644a5381e280ef002847f6b2.jpg   \n",
       "\n",
       "                                           image_url  Cháy_Baking-Burnt  \\\n",
       "0  https://oven-bucket.pizza4ps.io/images/2023042...                  0   \n",
       "1  https://oven-bucket.pizza4ps.io/images/2023042...                  0   \n",
       "2  https://oven-bucket.pizza4ps.io/images/2023042...                  0   \n",
       "3  https://oven-bucket.pizza4ps.io/images/2023042...                  0   \n",
       "4  https://oven-bucket.pizza4ps.io/images/2023042...                  0   \n",
       "\n",
       "   Khôngđốm_Baking-Doesnothaveleopard-spotting  Màunhạt_Baking-Pale  \\\n",
       "0                                            0                    0   \n",
       "1                                            0                    0   \n",
       "2                                            0                    0   \n",
       "3                                            0                    0   \n",
       "4                                            0                    0   \n",
       "\n",
       "   Lênmenthiếu_Fermentation-Lackfermentation  \\\n",
       "0                                          0   \n",
       "1                                          0   \n",
       "2                                          0   \n",
       "3                                          0   \n",
       "4                                          0   \n",
       "\n",
       "   Lênmenquánhiều_Fermentation-Overfermentation  Viềnkđều_Edge-Uneven  \\\n",
       "0                                             0                     0   \n",
       "1                                             0                     0   \n",
       "2                                             0                     0   \n",
       "3                                             0                     0   \n",
       "4                                             0                     0   \n",
       "\n",
       "   Viềnnhỏ_Edge-Toosmall  Viềnto_Edge-Toobig  ...  \\\n",
       "0                      0                   0  ...   \n",
       "1                      0                   0  ...   \n",
       "2                      0                   0  ...   \n",
       "3                      0                   0  ...   \n",
       "4                      0                   0  ...   \n",
       "\n",
       "   Quátậptrung_Topping-Toppingtoocentered  Topping-Khôngđều_Noteven  \\\n",
       "0                                       0                         0   \n",
       "1                                       0                         0   \n",
       "2                                       0                         0   \n",
       "3                                       0                         0   \n",
       "4                                       0                         0   \n",
       "\n",
       "   Khônghìnhtròn_Topping-Notcircled  Thiếubóng_toofewballs  \\\n",
       "0                                 0                      0   \n",
       "1                                 0                      0   \n",
       "2                                 0                      0   \n",
       "3                                 0                      0   \n",
       "4                                 0                      0   \n",
       "\n",
       "   Nởviềnkhôngđủ_edgepizzaisnotenoughswollen  Bánhkhôngtròn_Distortedshape  \\\n",
       "0                                          0                             0   \n",
       "1                                          0                             0   \n",
       "2                                          0                             0   \n",
       "3                                          0                             0   \n",
       "4                                          0                             0   \n",
       "\n",
       "   Bánhbé_Size-Toosmall  Bánhlớn_Size-Toobig  Phômaicao_Topping-Cheesetoohigh  \\\n",
       "0                     0                    0                                0   \n",
       "1                     0                    0                                0   \n",
       "2                     0                    0                                0   \n",
       "3                     0                    0                                0   \n",
       "4                     0                    0                                0   \n",
       "\n",
       "   image_error  \n",
       "0            1  \n",
       "1            1  \n",
       "2            1  \n",
       "3            1  \n",
       "4            1  \n",
       "\n",
       "[5 rows x 26 columns]"
      ]
     },
     "execution_count": 4,
     "metadata": {},
     "output_type": "execute_result"
    }
   ],
   "source": [
    "test_data.head()"
   ]
  },
  {
   "cell_type": "code",
   "execution_count": 5,
   "id": "23505cee",
   "metadata": {
    "execution": {
     "iopub.execute_input": "2023-11-22T23:20:05.526693Z",
     "iopub.status.busy": "2023-11-22T23:20:05.526423Z",
     "iopub.status.idle": "2023-11-22T23:20:05.531936Z",
     "shell.execute_reply": "2023-11-22T23:20:05.531036Z"
    },
    "papermill": {
     "duration": 0.020111,
     "end_time": "2023-11-22T23:20:05.533769",
     "exception": false,
     "start_time": "2023-11-22T23:20:05.513658",
     "status": "completed"
    },
    "tags": []
   },
   "outputs": [
    {
     "data": {
      "text/plain": [
       "(65221, 26)"
      ]
     },
     "execution_count": 5,
     "metadata": {},
     "output_type": "execute_result"
    }
   ],
   "source": [
    "train_data.shape"
   ]
  },
  {
   "cell_type": "code",
   "execution_count": 6,
   "id": "52da33e2",
   "metadata": {
    "execution": {
     "iopub.execute_input": "2023-11-22T23:20:05.559876Z",
     "iopub.status.busy": "2023-11-22T23:20:05.559273Z",
     "iopub.status.idle": "2023-11-22T23:20:05.564679Z",
     "shell.execute_reply": "2023-11-22T23:20:05.563851Z"
    },
    "papermill": {
     "duration": 0.020349,
     "end_time": "2023-11-22T23:20:05.566609",
     "exception": false,
     "start_time": "2023-11-22T23:20:05.546260",
     "status": "completed"
    },
    "tags": []
   },
   "outputs": [
    {
     "data": {
      "text/plain": [
       "(16305, 26)"
      ]
     },
     "execution_count": 6,
     "metadata": {},
     "output_type": "execute_result"
    }
   ],
   "source": [
    "test_data.shape"
   ]
  },
  {
   "cell_type": "code",
   "execution_count": 7,
   "id": "dcaff038",
   "metadata": {
    "execution": {
     "iopub.execute_input": "2023-11-22T23:20:05.592361Z",
     "iopub.status.busy": "2023-11-22T23:20:05.592073Z",
     "iopub.status.idle": "2023-11-22T23:20:05.610290Z",
     "shell.execute_reply": "2023-11-22T23:20:05.609357Z"
    },
    "papermill": {
     "duration": 0.033424,
     "end_time": "2023-11-22T23:20:05.612258",
     "exception": false,
     "start_time": "2023-11-22T23:20:05.578834",
     "status": "completed"
    },
    "tags": []
   },
   "outputs": [
    {
     "data": {
      "text/html": [
       "<div>\n",
       "<style scoped>\n",
       "    .dataframe tbody tr th:only-of-type {\n",
       "        vertical-align: middle;\n",
       "    }\n",
       "\n",
       "    .dataframe tbody tr th {\n",
       "        vertical-align: top;\n",
       "    }\n",
       "\n",
       "    .dataframe thead th {\n",
       "        text-align: right;\n",
       "    }\n",
       "</style>\n",
       "<table border=\"1\" class=\"dataframe\">\n",
       "  <thead>\n",
       "    <tr style=\"text-align: right;\">\n",
       "      <th></th>\n",
       "      <th>_id</th>\n",
       "      <th>image_url</th>\n",
       "      <th>Cháy_Baking-Burnt</th>\n",
       "      <th>Khôngđốm_Baking-Doesnothaveleopard-spotting</th>\n",
       "      <th>Màunhạt_Baking-Pale</th>\n",
       "      <th>Lênmenthiếu_Fermentation-Lackfermentation</th>\n",
       "      <th>Lênmenquánhiều_Fermentation-Overfermentation</th>\n",
       "      <th>Viềnkđều_Edge-Uneven</th>\n",
       "      <th>Viềnnhỏ_Edge-Toosmall</th>\n",
       "      <th>Viềnto_Edge-Toobig</th>\n",
       "      <th>...</th>\n",
       "      <th>Quátậptrung_Topping-Toppingtoocentered</th>\n",
       "      <th>Topping-Khôngđều_Noteven</th>\n",
       "      <th>Khônghìnhtròn_Topping-Notcircled</th>\n",
       "      <th>Thiếubóng_toofewballs</th>\n",
       "      <th>Nởviềnkhôngđủ_edgepizzaisnotenoughswollen</th>\n",
       "      <th>Bánhkhôngtròn_Distortedshape</th>\n",
       "      <th>Bánhbé_Size-Toosmall</th>\n",
       "      <th>Bánhlớn_Size-Toobig</th>\n",
       "      <th>Phômaicao_Topping-Cheesetoohigh</th>\n",
       "      <th>image_error</th>\n",
       "    </tr>\n",
       "  </thead>\n",
       "  <tbody>\n",
       "    <tr>\n",
       "      <th>0</th>\n",
       "      <td>647db9d9ba8c270029f76b6f.jpg</td>\n",
       "      <td>https://oven-bucket.pizza4ps.io/images/2023060...</td>\n",
       "      <td>0</td>\n",
       "      <td>0</td>\n",
       "      <td>1</td>\n",
       "      <td>0</td>\n",
       "      <td>0</td>\n",
       "      <td>0</td>\n",
       "      <td>0</td>\n",
       "      <td>0</td>\n",
       "      <td>...</td>\n",
       "      <td>0</td>\n",
       "      <td>0</td>\n",
       "      <td>0</td>\n",
       "      <td>0</td>\n",
       "      <td>0</td>\n",
       "      <td>1</td>\n",
       "      <td>0</td>\n",
       "      <td>0</td>\n",
       "      <td>0</td>\n",
       "      <td>0</td>\n",
       "    </tr>\n",
       "    <tr>\n",
       "      <th>1</th>\n",
       "      <td>64636724ba8c270029f70623.jpg</td>\n",
       "      <td>https://oven-bucket.pizza4ps.io/images/2023051...</td>\n",
       "      <td>0</td>\n",
       "      <td>0</td>\n",
       "      <td>1</td>\n",
       "      <td>0</td>\n",
       "      <td>0</td>\n",
       "      <td>1</td>\n",
       "      <td>0</td>\n",
       "      <td>0</td>\n",
       "      <td>...</td>\n",
       "      <td>0</td>\n",
       "      <td>0</td>\n",
       "      <td>0</td>\n",
       "      <td>0</td>\n",
       "      <td>0</td>\n",
       "      <td>1</td>\n",
       "      <td>0</td>\n",
       "      <td>0</td>\n",
       "      <td>0</td>\n",
       "      <td>0</td>\n",
       "    </tr>\n",
       "    <tr>\n",
       "      <th>2</th>\n",
       "      <td>64a0028ca2f5430028b12eb0.jpg</td>\n",
       "      <td>https://oven-bucket.pizza4ps.io/images/2023070...</td>\n",
       "      <td>1</td>\n",
       "      <td>0</td>\n",
       "      <td>0</td>\n",
       "      <td>0</td>\n",
       "      <td>0</td>\n",
       "      <td>1</td>\n",
       "      <td>0</td>\n",
       "      <td>0</td>\n",
       "      <td>...</td>\n",
       "      <td>0</td>\n",
       "      <td>0</td>\n",
       "      <td>0</td>\n",
       "      <td>0</td>\n",
       "      <td>0</td>\n",
       "      <td>1</td>\n",
       "      <td>0</td>\n",
       "      <td>0</td>\n",
       "      <td>0</td>\n",
       "      <td>0</td>\n",
       "    </tr>\n",
       "    <tr>\n",
       "      <th>3</th>\n",
       "      <td>64830e48ba8c270029f77a3e.jpg</td>\n",
       "      <td>https://oven-bucket.pizza4ps.io/images/2023060...</td>\n",
       "      <td>0</td>\n",
       "      <td>0</td>\n",
       "      <td>0</td>\n",
       "      <td>0</td>\n",
       "      <td>0</td>\n",
       "      <td>0</td>\n",
       "      <td>0</td>\n",
       "      <td>1</td>\n",
       "      <td>...</td>\n",
       "      <td>0</td>\n",
       "      <td>0</td>\n",
       "      <td>0</td>\n",
       "      <td>0</td>\n",
       "      <td>0</td>\n",
       "      <td>1</td>\n",
       "      <td>0</td>\n",
       "      <td>0</td>\n",
       "      <td>0</td>\n",
       "      <td>0</td>\n",
       "    </tr>\n",
       "    <tr>\n",
       "      <th>4</th>\n",
       "      <td>644b9d31ba8c270029f697a7.jpg</td>\n",
       "      <td>https://oven-bucket.pizza4ps.io/images/2023042...</td>\n",
       "      <td>0</td>\n",
       "      <td>0</td>\n",
       "      <td>0</td>\n",
       "      <td>0</td>\n",
       "      <td>0</td>\n",
       "      <td>0</td>\n",
       "      <td>0</td>\n",
       "      <td>0</td>\n",
       "      <td>...</td>\n",
       "      <td>0</td>\n",
       "      <td>0</td>\n",
       "      <td>0</td>\n",
       "      <td>0</td>\n",
       "      <td>0</td>\n",
       "      <td>1</td>\n",
       "      <td>0</td>\n",
       "      <td>0</td>\n",
       "      <td>0</td>\n",
       "      <td>0</td>\n",
       "    </tr>\n",
       "  </tbody>\n",
       "</table>\n",
       "<p>5 rows × 26 columns</p>\n",
       "</div>"
      ],
      "text/plain": [
       "                            _id  \\\n",
       "0  647db9d9ba8c270029f76b6f.jpg   \n",
       "1  64636724ba8c270029f70623.jpg   \n",
       "2  64a0028ca2f5430028b12eb0.jpg   \n",
       "3  64830e48ba8c270029f77a3e.jpg   \n",
       "4  644b9d31ba8c270029f697a7.jpg   \n",
       "\n",
       "                                           image_url  Cháy_Baking-Burnt  \\\n",
       "0  https://oven-bucket.pizza4ps.io/images/2023060...                  0   \n",
       "1  https://oven-bucket.pizza4ps.io/images/2023051...                  0   \n",
       "2  https://oven-bucket.pizza4ps.io/images/2023070...                  1   \n",
       "3  https://oven-bucket.pizza4ps.io/images/2023060...                  0   \n",
       "4  https://oven-bucket.pizza4ps.io/images/2023042...                  0   \n",
       "\n",
       "   Khôngđốm_Baking-Doesnothaveleopard-spotting  Màunhạt_Baking-Pale  \\\n",
       "0                                            0                    1   \n",
       "1                                            0                    1   \n",
       "2                                            0                    0   \n",
       "3                                            0                    0   \n",
       "4                                            0                    0   \n",
       "\n",
       "   Lênmenthiếu_Fermentation-Lackfermentation  \\\n",
       "0                                          0   \n",
       "1                                          0   \n",
       "2                                          0   \n",
       "3                                          0   \n",
       "4                                          0   \n",
       "\n",
       "   Lênmenquánhiều_Fermentation-Overfermentation  Viềnkđều_Edge-Uneven  \\\n",
       "0                                             0                     0   \n",
       "1                                             0                     1   \n",
       "2                                             0                     1   \n",
       "3                                             0                     0   \n",
       "4                                             0                     0   \n",
       "\n",
       "   Viềnnhỏ_Edge-Toosmall  Viềnto_Edge-Toobig  ...  \\\n",
       "0                      0                   0  ...   \n",
       "1                      0                   0  ...   \n",
       "2                      0                   0  ...   \n",
       "3                      0                   1  ...   \n",
       "4                      0                   0  ...   \n",
       "\n",
       "   Quátậptrung_Topping-Toppingtoocentered  Topping-Khôngđều_Noteven  \\\n",
       "0                                       0                         0   \n",
       "1                                       0                         0   \n",
       "2                                       0                         0   \n",
       "3                                       0                         0   \n",
       "4                                       0                         0   \n",
       "\n",
       "   Khônghìnhtròn_Topping-Notcircled  Thiếubóng_toofewballs  \\\n",
       "0                                 0                      0   \n",
       "1                                 0                      0   \n",
       "2                                 0                      0   \n",
       "3                                 0                      0   \n",
       "4                                 0                      0   \n",
       "\n",
       "   Nởviềnkhôngđủ_edgepizzaisnotenoughswollen  Bánhkhôngtròn_Distortedshape  \\\n",
       "0                                          0                             1   \n",
       "1                                          0                             1   \n",
       "2                                          0                             1   \n",
       "3                                          0                             1   \n",
       "4                                          0                             1   \n",
       "\n",
       "   Bánhbé_Size-Toosmall  Bánhlớn_Size-Toobig  Phômaicao_Topping-Cheesetoohigh  \\\n",
       "0                     0                    0                                0   \n",
       "1                     0                    0                                0   \n",
       "2                     0                    0                                0   \n",
       "3                     0                    0                                0   \n",
       "4                     0                    0                                0   \n",
       "\n",
       "   image_error  \n",
       "0            0  \n",
       "1            0  \n",
       "2            0  \n",
       "3            0  \n",
       "4            0  \n",
       "\n",
       "[5 rows x 26 columns]"
      ]
     },
     "execution_count": 7,
     "metadata": {},
     "output_type": "execute_result"
    }
   ],
   "source": [
    "train_data.head()"
   ]
  },
  {
   "cell_type": "code",
   "execution_count": 8,
   "id": "bd429ae7",
   "metadata": {
    "execution": {
     "iopub.execute_input": "2023-11-22T23:20:05.642194Z",
     "iopub.status.busy": "2023-11-22T23:20:05.641589Z",
     "iopub.status.idle": "2023-11-22T23:20:05.650390Z",
     "shell.execute_reply": "2023-11-22T23:20:05.648619Z"
    },
    "papermill": {
     "duration": 0.027512,
     "end_time": "2023-11-22T23:20:05.653164",
     "exception": false,
     "start_time": "2023-11-22T23:20:05.625652",
     "status": "completed"
    },
    "tags": []
   },
   "outputs": [
    {
     "name": "stdout",
     "output_type": "stream",
     "text": [
      "20\n"
     ]
    }
   ],
   "source": [
    "labels = [\n",
    "    \"Cháy_Baking-Burnt\",\n",
    "    \"Khôngđốm_Baking-Doesnothaveleopard-spotting\",\n",
    "    \"Màunhạt_Baking-Pale\",\n",
    "    \"Lênmenthiếu_Fermentation-Lackfermentation\",\n",
    "    \"Viềnkđều_Edge-Uneven\",\n",
    "    \"Viềnnhỏ_Edge-Toosmall\",\n",
    "    \"Viềnto_Edge-Toobig\",\n",
    "    \"Viềnthấp_Edge-Toolow\",\n",
    "    \"Quátheoviền_Topping-Toostrongshapingtheedge\",\n",
    "    \"Topping-Khôngđúng_incorrectportioning\",\n",
    "    \"KhôngcânTopping-Notevenhalfandhalf\",\n",
    "    \"Sốttrênmép_Topping-Saucecoveringontheedge\",\n",
    "    \"Trộnlẫn_Topping-Bended\",\n",
    "    \"Quátậptrung_Topping-Toppingtoocentered\",\n",
    "    \"Topping-Khôngđều_Noteven\",\n",
    "    \"Thiếubóng_toofewballs\",\n",
    "    \"Nởviềnkhôngđủ_edgepizzaisnotenoughswollen\",\n",
    "    \"Bánhkhôngtròn_Distortedshape\",\n",
    "    \"Bánhbé_Size-Toosmall\",\n",
    "    \"Phômaicao_Topping-Cheesetoohigh\",\n",
    "]\n",
    "num_labels = len(labels)\n",
    "print(num_labels)"
   ]
  },
  {
   "cell_type": "code",
   "execution_count": 9,
   "id": "3693d581",
   "metadata": {
    "execution": {
     "iopub.execute_input": "2023-11-22T23:20:05.698311Z",
     "iopub.status.busy": "2023-11-22T23:20:05.697544Z",
     "iopub.status.idle": "2023-11-22T23:20:05.706908Z",
     "shell.execute_reply": "2023-11-22T23:20:05.705686Z"
    },
    "papermill": {
     "duration": 0.032955,
     "end_time": "2023-11-22T23:20:05.709161",
     "exception": false,
     "start_time": "2023-11-22T23:20:05.676206",
     "status": "completed"
    },
    "tags": []
   },
   "outputs": [],
   "source": [
    "from keras.preprocessing.image import ImageDataGenerator\n",
    "\n",
    "image_data_generator = ImageDataGenerator(\n",
    "    #     rotation_range=30,  # Góc xoay ảnh\n",
    "    rescale=1.0 / 255,  # Tiền xử lý: chia màu cho 255 để đưa về khoảng [0, 1]\n",
    "    # shear_range=0.2,  # Góc cắt ảnh\n",
    "    # horizontal_flip=True,  # Lật ảnh theo chiều ngang\n",
    "    # width_shift_range=0.2,  # Dịch ảnh theo chiều ngang\n",
    "    # height_shift_range=0.2,  # Dịch ảnh theo chiều dọc\n",
    "    validation_split=0.2,  # Tỉ lệ dữ liệu dùng để validation\n",
    ")\n",
    "test_data_generator = ImageDataGenerator(rescale=1.0 / 255)"
   ]
  },
  {
   "cell_type": "code",
   "execution_count": 10,
   "id": "a4ae8c3b",
   "metadata": {
    "execution": {
     "iopub.execute_input": "2023-11-22T23:20:05.744499Z",
     "iopub.status.busy": "2023-11-22T23:20:05.743763Z",
     "iopub.status.idle": "2023-11-22T23:20:05.748162Z",
     "shell.execute_reply": "2023-11-22T23:20:05.747309Z"
    },
    "papermill": {
     "duration": 0.021839,
     "end_time": "2023-11-22T23:20:05.750071",
     "exception": false,
     "start_time": "2023-11-22T23:20:05.728232",
     "status": "completed"
    },
    "tags": []
   },
   "outputs": [],
   "source": [
    "image_path = path + \"image_input/image_input\""
   ]
  },
  {
   "cell_type": "code",
   "execution_count": 11,
   "id": "7f8598eb",
   "metadata": {
    "execution": {
     "iopub.execute_input": "2023-11-22T23:20:05.776857Z",
     "iopub.status.busy": "2023-11-22T23:20:05.776580Z",
     "iopub.status.idle": "2023-11-22T23:24:05.036884Z",
     "shell.execute_reply": "2023-11-22T23:24:05.035900Z"
    },
    "papermill": {
     "duration": 239.27625,
     "end_time": "2023-11-22T23:24:05.039118",
     "exception": false,
     "start_time": "2023-11-22T23:20:05.762868",
     "status": "completed"
    },
    "tags": []
   },
   "outputs": [
    {
     "name": "stdout",
     "output_type": "stream",
     "text": [
      "Found 52177 validated image filenames.\n",
      "Found 13044 validated image filenames.\n",
      "Found 16305 validated image filenames.\n"
     ]
    }
   ],
   "source": [
    "train_generator = image_data_generator.flow_from_dataframe(\n",
    "    dataframe=train_data,\n",
    "    directory=image_path,\n",
    "    x_col=\"_id\",\n",
    "    y_col=labels,\n",
    "    subset=\"training\",\n",
    "    batch_size=32,\n",
    "    shuffle=True,\n",
    "    class_mode=\"raw\",\n",
    "    target_size=(224, 224),\n",
    "    seed=42,\n",
    ")\n",
    "val_generator = image_data_generator.flow_from_dataframe(\n",
    "    dataframe=train_data,\n",
    "    directory=image_path,\n",
    "    x_col=\"_id\",\n",
    "    y_col=labels,\n",
    "    subset=\"validation\",\n",
    "    batch_size=32,\n",
    "    shuffle=True,\n",
    "    class_mode=\"raw\",\n",
    "    target_size=(224, 224),\n",
    "    seed=42,\n",
    ")\n",
    "test_generator = test_data_generator.flow_from_dataframe(\n",
    "    dataframe=test_data,\n",
    "    directory=image_path,\n",
    "    x_col=\"_id\",\n",
    "    y_col=labels,\n",
    "    batch_size=32,\n",
    "    shuffle=True,\n",
    "    class_mode=\"raw\",\n",
    "    target_size=(224, 224),\n",
    ")"
   ]
  },
  {
   "cell_type": "code",
   "execution_count": 12,
   "id": "b8c2861a",
   "metadata": {
    "execution": {
     "iopub.execute_input": "2023-11-22T23:24:05.067919Z",
     "iopub.status.busy": "2023-11-22T23:24:05.067596Z",
     "iopub.status.idle": "2023-11-22T23:24:05.073279Z",
     "shell.execute_reply": "2023-11-22T23:24:05.072366Z"
    },
    "papermill": {
     "duration": 0.022774,
     "end_time": "2023-11-22T23:24:05.075349",
     "exception": false,
     "start_time": "2023-11-22T23:24:05.052575",
     "status": "completed"
    },
    "tags": []
   },
   "outputs": [
    {
     "data": {
      "text/plain": [
       "52177"
      ]
     },
     "execution_count": 12,
     "metadata": {},
     "output_type": "execute_result"
    }
   ],
   "source": [
    "train_generator.n"
   ]
  },
  {
   "cell_type": "code",
   "execution_count": 13,
   "id": "b0a0bbeb",
   "metadata": {
    "execution": {
     "iopub.execute_input": "2023-11-22T23:24:05.104164Z",
     "iopub.status.busy": "2023-11-22T23:24:05.103853Z",
     "iopub.status.idle": "2023-11-22T23:24:05.111381Z",
     "shell.execute_reply": "2023-11-22T23:24:05.110451Z"
    },
    "papermill": {
     "duration": 0.02455,
     "end_time": "2023-11-22T23:24:05.113512",
     "exception": false,
     "start_time": "2023-11-22T23:24:05.088962",
     "status": "completed"
    },
    "tags": []
   },
   "outputs": [],
   "source": [
    "from keras.applications.inception_v3 import InceptionV3\n",
    "from keras.models import Model\n",
    "from keras.layers import Dense, GlobalAveragePooling2D, Dropout\n",
    "from keras import backend as K\n",
    "\n",
    "\n",
    "def inception_v3_create_model():\n",
    "    base_model = InceptionV3(\n",
    "        weights=\"imagenet\", include_top=False, input_shape=(224, 224, 3)\n",
    "    )\n",
    "\n",
    "    x = base_model.output\n",
    "    x = GlobalAveragePooling2D()(x)\n",
    "    x = Dense(1024, activation=\"relu\")(x)\n",
    "    x = Dropout(0.2)(x)\n",
    "    predictions = Dense(num_labels, activation=\"sigmoid\")(x)\n",
    "\n",
    "    base_model.trainable = True\n",
    "    model = Model(inputs=base_model.input, outputs=predictions)\n",
    "\n",
    "    model.compile(\n",
    "        optimizer=\"adam\", loss=\"binary_crossentropy\", metrics=[\"binary_accuracy\"]\n",
    "    )\n",
    "    return model\n",
    "\n",
    "\n",
    "# inception_v3_model = create_model()"
   ]
  },
  {
   "cell_type": "code",
   "execution_count": 14,
   "id": "248fdc18",
   "metadata": {
    "execution": {
     "iopub.execute_input": "2023-11-22T23:24:05.142607Z",
     "iopub.status.busy": "2023-11-22T23:24:05.142322Z",
     "iopub.status.idle": "2023-11-22T23:24:05.157952Z",
     "shell.execute_reply": "2023-11-22T23:24:05.157140Z"
    },
    "papermill": {
     "duration": 0.032391,
     "end_time": "2023-11-22T23:24:05.159891",
     "exception": false,
     "start_time": "2023-11-22T23:24:05.127500",
     "status": "completed"
    },
    "tags": []
   },
   "outputs": [],
   "source": [
    "class Metrics(Callback):\n",
    "    def __init__(self, val_generator, num_classes):\n",
    "        super().__init__()\n",
    "        self.val_generator = val_generator\n",
    "        self.num_classes = num_classes\n",
    "\n",
    "    def on_epoch_end(self, epoch, logs=None):\n",
    "        # Duyệt qua từng batch và tính toán\n",
    "        true_labels = []\n",
    "        predicted_labels = []\n",
    "\n",
    "        for i in range(len(self.val_generator)):\n",
    "            images, labels = self.val_generator[i]\n",
    "            true_labels.extend(labels)\n",
    "\n",
    "            # Thực hiện dự đoán\n",
    "            predictions = self.model.predict(images, verbose=0)\n",
    "\n",
    "            # Chuyển đổi dự đoán thành nhãn binary (0 hoặc 1)\n",
    "            binary_predictions = (predictions > 0.5).astype(int)\n",
    "            predicted_labels.extend(binary_predictions)\n",
    "\n",
    "        # Chuyển đổi danh sách thành numpy arrays\n",
    "        true_labels = np.array(true_labels)\n",
    "        predicted_labels = np.array(predicted_labels)\n",
    "\n",
    "        # Tính precision và recall cho từng nhãn\n",
    "        per_class_precision = precision_score(\n",
    "            true_labels, predicted_labels, average=None, zero_division=1\n",
    "        )\n",
    "        per_class_recall = recall_score(\n",
    "            true_labels, predicted_labels, average=None, zero_division=1\n",
    "        )\n",
    "\n",
    "        # Tính AP (Average Precision) cho từng nhãn\n",
    "        ap_scores = average_precision_score(true_labels, predicted_labels, average=None)\n",
    "\n",
    "        # Tính mAP (mean Average Precision)\n",
    "        map_score = np.mean(ap_scores)\n",
    "\n",
    "        per_class_precision = [\n",
    "            \"{:.2f}\".format(precision) for precision in per_class_precision\n",
    "        ]\n",
    "        per_class_recall = [\"{:.2f}\".format(recall) for recall in per_class_recall]\n",
    "        ap_scores = [\"{:.2f}\".format(ap) for ap in ap_scores]\n",
    "        map_score = \"{:.2f}\".format(map_score)\n",
    "\n",
    "        # Hiển thị kết quả\n",
    "        print(f\"Epoch: {epoch + 1}\")\n",
    "        print(\"Precision:\", end=\"  \")\n",
    "        for i in range(len(per_class_precision)):\n",
    "            print(per_class_precision[i], end=\"  \")\n",
    "        print(\"\\nRecall:   \", end=\"  \")\n",
    "        for i in range(len(per_class_recall)):\n",
    "            print(per_class_recall[i], end=\"  \")\n",
    "        print(\"\\nAP:       \", end=\"  \")\n",
    "        for i in range(len(ap_scores)):\n",
    "            print(ap_scores[i], end=\"  \")\n",
    "        print()\n",
    "        print(f\"mAP: {map_score}\")\n",
    "        print()"
   ]
  },
  {
   "cell_type": "code",
   "execution_count": 15,
   "id": "61a455c1",
   "metadata": {
    "execution": {
     "iopub.execute_input": "2023-11-22T23:24:05.187573Z",
     "iopub.status.busy": "2023-11-22T23:24:05.187303Z",
     "iopub.status.idle": "2023-11-22T23:24:05.193761Z",
     "shell.execute_reply": "2023-11-22T23:24:05.192951Z"
    },
    "papermill": {
     "duration": 0.022466,
     "end_time": "2023-11-22T23:24:05.195607",
     "exception": false,
     "start_time": "2023-11-22T23:24:05.173141",
     "status": "completed"
    },
    "tags": []
   },
   "outputs": [],
   "source": [
    "import os\n",
    "from keras.callbacks import EarlyStopping\n",
    "from keras.callbacks import ModelCheckpoint\n",
    "\n",
    "\n",
    "def call_back(checkpoint_path):\n",
    "    early_stopping_callback = EarlyStopping(\n",
    "        patience=10,  # Số epochs không có cải thiện trước khi dừng huấn luyện\n",
    "        monitor=\"val_loss\",  # Monitor validation loss\n",
    "        restore_best_weights=True,  # Khôi phục trọng số của model tại epoch có validation loss tốt nhất\n",
    "        verbose=1,\n",
    "    )\n",
    "    checkpoint_dir = os.path.dirname(checkpoint_path)\n",
    "\n",
    "    checkpoint_callback = ModelCheckpoint(\n",
    "        filepath=checkpoint_path,\n",
    "        save_weights_only=True,  # Lưu toàn bộ mô hình, không chỉ là trọng số\n",
    "        monitor=\"val_loss\",  # Theo dõi giá trị validation loss\n",
    "        save_best_only=True,  # Lưu chỉ model có đạt được giá trị tốt nhất trên 'monitor'\n",
    "        mode=\"min\",  # Theo dõi theo chiều giảm của 'monitor'\n",
    "        verbose=1,  # Hiển thị thông báo khi lưu model\n",
    "    )\n",
    "\n",
    "    metrics_callback = Metrics(val_generator=val_generator, num_classes=num_labels)\n",
    "    return early_stopping_callback, checkpoint_callback, metrics_callback"
   ]
  },
  {
   "cell_type": "code",
   "execution_count": 16,
   "id": "c93abeb5",
   "metadata": {
    "execution": {
     "iopub.execute_input": "2023-11-22T23:24:05.223509Z",
     "iopub.status.busy": "2023-11-22T23:24:05.223261Z",
     "iopub.status.idle": "2023-11-22T23:24:05.226933Z",
     "shell.execute_reply": "2023-11-22T23:24:05.226126Z"
    },
    "papermill": {
     "duration": 0.019887,
     "end_time": "2023-11-22T23:24:05.228827",
     "exception": false,
     "start_time": "2023-11-22T23:24:05.208940",
     "status": "completed"
    },
    "tags": []
   },
   "outputs": [],
   "source": [
    "checkpoint_path = \"/kaggle/working/model_saver/inceptionv3.ckpt\""
   ]
  },
  {
   "cell_type": "code",
   "execution_count": 17,
   "id": "cb1a0f27",
   "metadata": {
    "execution": {
     "iopub.execute_input": "2023-11-22T23:24:05.255940Z",
     "iopub.status.busy": "2023-11-22T23:24:05.255675Z",
     "iopub.status.idle": "2023-11-22T23:24:05.259600Z",
     "shell.execute_reply": "2023-11-22T23:24:05.258809Z"
    },
    "papermill": {
     "duration": 0.01969,
     "end_time": "2023-11-22T23:24:05.261515",
     "exception": false,
     "start_time": "2023-11-22T23:24:05.241825",
     "status": "completed"
    },
    "tags": []
   },
   "outputs": [],
   "source": [
    "early_stopping_callback, checkpoint_callback, metrics_callback = call_back(\n",
    "    checkpoint_path\n",
    ")"
   ]
  },
  {
   "cell_type": "code",
   "execution_count": 18,
   "id": "215ce24f",
   "metadata": {
    "execution": {
     "iopub.execute_input": "2023-11-22T23:24:05.288780Z",
     "iopub.status.busy": "2023-11-22T23:24:05.288504Z",
     "iopub.status.idle": "2023-11-22T23:24:12.239320Z",
     "shell.execute_reply": "2023-11-22T23:24:12.238519Z"
    },
    "papermill": {
     "duration": 6.967184,
     "end_time": "2023-11-22T23:24:12.241929",
     "exception": false,
     "start_time": "2023-11-22T23:24:05.274745",
     "status": "completed"
    },
    "tags": []
   },
   "outputs": [
    {
     "name": "stdout",
     "output_type": "stream",
     "text": [
      "Downloading data from https://storage.googleapis.com/tensorflow/keras-applications/inception_v3/inception_v3_weights_tf_dim_ordering_tf_kernels_notop.h5\n",
      "87910968/87910968 [==============================] - 0s 0us/step\n"
     ]
    }
   ],
   "source": [
    "inception_v3_model = inception_v3_create_model()"
   ]
  },
  {
   "cell_type": "code",
   "execution_count": 19,
   "id": "02320536",
   "metadata": {
    "execution": {
     "iopub.execute_input": "2023-11-22T23:24:12.274221Z",
     "iopub.status.busy": "2023-11-22T23:24:12.273539Z",
     "iopub.status.idle": "2023-11-23T04:26:47.312125Z",
     "shell.execute_reply": "2023-11-23T04:26:47.310137Z"
    },
    "papermill": {
     "duration": 18156.983694,
     "end_time": "2023-11-23T04:26:49.241214",
     "exception": false,
     "start_time": "2023-11-22T23:24:12.257520",
     "status": "completed"
    },
    "tags": []
   },
   "outputs": [
    {
     "name": "stdout",
     "output_type": "stream",
     "text": [
      "Epoch 1/50\n",
      "1631/1631 [==============================] - ETA: 0s - loss: 0.2827 - binary_accuracy: 0.8792\n",
      "Epoch 1: val_loss improved from inf to 0.29229, saving model to /kaggle/working/model_saver/inceptionv3.ckpt\n",
      "Epoch: 1\n",
      "Precision:  0.89  0.72  0.51  0.42  0.79  0.59  0.77  0.29  0.00  0.87  0.85  0.78  1.00  0.73  1.00  0.74  0.42  0.84  0.69  0.39  \n",
      "Recall:     0.28  0.75  0.93  0.02  0.24  0.62  0.40  0.45  0.00  0.07  0.11  0.05  0.00  0.15  0.00  0.72  0.78  0.86  0.33  0.86  \n",
      "AP:         0.44  0.60  0.49  0.03  0.37  0.47  0.45  0.16  0.02  0.11  0.21  0.14  0.02  0.12  0.02  0.62  0.36  0.82  0.36  0.35  \n",
      "mAP: 0.31\n",
      "\n",
      "1631/1631 [==============================] - 1516s 900ms/step - loss: 0.2827 - binary_accuracy: 0.8792 - val_loss: 0.2923 - val_binary_accuracy: 0.8729\n",
      "Epoch 2/50\n",
      "1631/1631 [==============================] - ETA: 0s - loss: 0.2429 - binary_accuracy: 0.8959\n",
      "Epoch 2: val_loss improved from 0.29229 to 0.25039, saving model to /kaggle/working/model_saver/inceptionv3.ckpt\n",
      "Epoch: 2\n",
      "Precision:  0.92  0.71  0.67  0.00  0.78  0.58  0.81  0.52  0.50  0.73  0.74  0.67  0.79  0.76  1.00  0.70  0.59  0.85  0.72  0.61  \n",
      "Recall:     0.33  0.79  0.82  0.00  0.32  0.72  0.50  0.28  0.00  0.38  0.19  0.11  0.07  0.23  0.00  0.77  0.63  0.85  0.38  0.64  \n",
      "AP:         0.49  0.61  0.60  0.02  0.42  0.49  0.52  0.17  0.02  0.31  0.25  0.17  0.07  0.18  0.02  0.61  0.42  0.82  0.40  0.43  \n",
      "mAP: 0.35\n",
      "\n",
      "1631/1631 [==============================] - 1294s 793ms/step - loss: 0.2429 - binary_accuracy: 0.8959 - val_loss: 0.2504 - val_binary_accuracy: 0.8914\n",
      "Epoch 3/50\n",
      "1631/1631 [==============================] - ETA: 0s - loss: 0.2271 - binary_accuracy: 0.9023\n",
      "Epoch 3: val_loss improved from 0.25039 to 0.23929, saving model to /kaggle/working/model_saver/inceptionv3.ckpt\n",
      "Epoch: 3\n",
      "Precision:  0.72  0.84  0.84  0.00  0.75  0.62  0.79  0.60  0.00  0.71  0.57  0.56  0.52  0.86  1.00  0.84  0.90  0.89  0.79  0.91  \n",
      "Recall:     0.71  0.69  0.56  0.00  0.52  0.64  0.52  0.27  0.00  0.44  0.48  0.50  0.19  0.04  0.00  0.66  0.26  0.77  0.33  0.20  \n",
      "AP:         0.59  0.66  0.61  0.02  0.51  0.49  0.53  0.19  0.02  0.34  0.34  0.33  0.12  0.05  0.02  0.66  0.34  0.85  0.39  0.27  \n",
      "mAP: 0.37\n",
      "\n",
      "1631/1631 [==============================] - 1222s 749ms/step - loss: 0.2271 - binary_accuracy: 0.9023 - val_loss: 0.2393 - val_binary_accuracy: 0.8985\n",
      "Epoch 4/50\n",
      "1631/1631 [==============================] - ETA: 0s - loss: 0.2151 - binary_accuracy: 0.9077\n",
      "Epoch 4: val_loss improved from 0.23929 to 0.22492, saving model to /kaggle/working/model_saver/inceptionv3.ckpt\n",
      "Epoch: 4\n",
      "Precision:  0.71  0.80  0.78  0.78  0.70  0.76  0.72  0.56  0.58  0.72  0.61  0.77  0.52  0.26  0.36  0.79  0.79  0.87  0.60  0.68  \n",
      "Recall:     0.74  0.77  0.72  0.03  0.58  0.47  0.69  0.36  0.05  0.47  0.43  0.17  0.20  0.51  0.03  0.77  0.40  0.83  0.58  0.55  \n",
      "AP:         0.59  0.67  0.65  0.04  0.51  0.50  0.57  0.23  0.05  0.36  0.34  0.22  0.12  0.14  0.02  0.68  0.41  0.84  0.43  0.42  \n",
      "mAP: 0.39\n",
      "\n",
      "1631/1631 [==============================] - 1376s 844ms/step - loss: 0.2151 - binary_accuracy: 0.9077 - val_loss: 0.2249 - val_binary_accuracy: 0.9028\n",
      "Epoch 5/50\n",
      "1631/1631 [==============================] - ETA: 0s - loss: 0.2040 - binary_accuracy: 0.9124\n",
      "Epoch 5: val_loss did not improve from 0.22492\n",
      "Epoch: 5\n",
      "Precision:  0.93  0.84  0.52  0.75  0.87  0.60  0.91  0.56  0.52  0.64  0.70  0.81  0.86  0.77  0.23  0.84  0.43  0.84  0.66  0.46  \n",
      "Recall:     0.28  0.70  0.96  0.02  0.29  0.75  0.40  0.37  0.09  0.56  0.35  0.17  0.09  0.20  0.02  0.66  0.88  0.89  0.58  0.84  \n",
      "AP:         0.46  0.66  0.51  0.04  0.43  0.51  0.51  0.23  0.07  0.38  0.33  0.23  0.09  0.16  0.02  0.66  0.40  0.82  0.47  0.40  \n",
      "mAP: 0.37\n",
      "\n",
      "1631/1631 [==============================] - 1357s 832ms/step - loss: 0.2040 - binary_accuracy: 0.9124 - val_loss: 0.2658 - val_binary_accuracy: 0.8859\n",
      "Epoch 6/50\n",
      "1631/1631 [==============================] - ETA: 0s - loss: 0.1929 - binary_accuracy: 0.9174\n",
      "Epoch 6: val_loss did not improve from 0.22492\n",
      "Epoch: 6\n",
      "Precision:  0.82  0.81  0.83  0.59  0.76  0.63  0.70  0.82  1.00  0.59  0.64  0.70  0.61  0.47  0.33  0.84  0.74  0.79  0.56  0.79  \n",
      "Recall:     0.59  0.74  0.66  0.08  0.50  0.66  0.75  0.12  0.03  0.62  0.43  0.38  0.07  0.34  0.01  0.70  0.51  0.96  0.73  0.49  \n",
      "AP:         0.60  0.66  0.65  0.07  0.50  0.51  0.58  0.14  0.05  0.38  0.35  0.34  0.06  0.17  0.02  0.68  0.45  0.78  0.46  0.44  \n",
      "mAP: 0.39\n",
      "\n",
      "1631/1631 [==============================] - 1268s 778ms/step - loss: 0.1929 - binary_accuracy: 0.9174 - val_loss: 0.2296 - val_binary_accuracy: 0.9037\n",
      "Epoch 7/50\n",
      "1631/1631 [==============================] - ETA: 0s - loss: 0.1799 - binary_accuracy: 0.9233\n",
      "Epoch 7: val_loss did not improve from 0.22492\n",
      "Epoch: 7\n",
      "Precision:  0.67  0.92  0.75  0.68  0.58  0.78  0.71  0.66  0.80  0.78  0.60  0.65  0.46  0.70  0.00  0.89  0.77  0.82  0.61  0.68  \n",
      "Recall:     0.82  0.56  0.75  0.07  0.76  0.39  0.72  0.21  0.05  0.35  0.53  0.39  0.28  0.14  0.00  0.59  0.43  0.90  0.60  0.61  \n",
      "AP:         0.59  0.62  0.64  0.06  0.50  0.47  0.58  0.18  0.06  0.30  0.38  0.32  0.15  0.11  0.02  0.65  0.41  0.81  0.45  0.46  \n",
      "mAP: 0.39\n",
      "\n",
      "1631/1631 [==============================] - 1293s 793ms/step - loss: 0.1799 - binary_accuracy: 0.9233 - val_loss: 0.2469 - val_binary_accuracy: 0.8999\n",
      "Epoch 8/50\n",
      "1631/1631 [==============================] - ETA: 0s - loss: 0.1656 - binary_accuracy: 0.9298\n",
      "Epoch 8: val_loss did not improve from 0.22492\n",
      "Epoch: 8\n",
      "Precision:  0.46  0.79  0.93  0.48  0.72  0.81  0.66  0.70  0.36  0.73  0.70  0.77  0.48  0.69  0.35  0.78  0.83  0.88  0.61  0.60  \n",
      "Recall:     0.97  0.77  0.37  0.20  0.57  0.38  0.79  0.21  0.40  0.46  0.29  0.20  0.24  0.29  0.15  0.77  0.36  0.84  0.72  0.70  \n",
      "AP:         0.45  0.67  0.54  0.11  0.51  0.48  0.57  0.18  0.16  0.36  0.30  0.24  0.13  0.21  0.07  0.67  0.39  0.85  0.49  0.45  \n",
      "mAP: 0.39\n",
      "\n",
      "1631/1631 [==============================] - 1228s 753ms/step - loss: 0.1656 - binary_accuracy: 0.9298 - val_loss: 0.2698 - val_binary_accuracy: 0.8920\n",
      "Epoch 9/50\n",
      "1631/1631 [==============================] - ETA: 0s - loss: 0.1509 - binary_accuracy: 0.9365\n",
      "Epoch 9: val_loss did not improve from 0.22492\n",
      "Epoch: 9\n",
      "Precision:  0.71  0.64  0.77  0.34  0.60  0.77  0.52  0.63  0.62  0.58  0.67  0.49  0.64  0.67  0.26  0.67  0.77  0.74  0.60  0.90  \n",
      "Recall:     0.75  0.89  0.73  0.19  0.79  0.45  0.90  0.35  0.08  0.61  0.34  0.69  0.13  0.20  0.32  0.87  0.45  0.99  0.71  0.21  \n",
      "AP:         0.60  0.60  0.65  0.08  0.52  0.50  0.49  0.25  0.07  0.38  0.32  0.37  0.10  0.14  0.10  0.62  0.43  0.74  0.48  0.27  \n",
      "mAP: 0.38\n",
      "\n",
      "1631/1631 [==============================] - 1248s 765ms/step - loss: 0.1509 - binary_accuracy: 0.9365 - val_loss: 0.2811 - val_binary_accuracy: 0.8905\n",
      "Epoch 10/50\n",
      "1631/1631 [==============================] - ETA: 0s - loss: 0.1354 - binary_accuracy: 0.9437\n",
      "Epoch 10: val_loss did not improve from 0.22492\n",
      "Epoch: 10\n",
      "Precision:  0.59  0.88  0.87  0.55  0.64  0.75  0.65  0.58  0.55  0.71  0.66  0.63  0.34  0.48  0.34  0.86  0.84  0.84  0.66  0.83  \n",
      "Recall:     0.87  0.63  0.54  0.11  0.68  0.54  0.77  0.39  0.15  0.44  0.40  0.39  0.38  0.38  0.16  0.63  0.37  0.89  0.60  0.39  \n",
      "AP:         0.55  0.65  0.61  0.08  0.51  0.53  0.55  0.25  0.10  0.34  0.34  0.31  0.14  0.19  0.07  0.66  0.40  0.83  0.47  0.39  \n",
      "mAP: 0.40\n",
      "\n",
      "1631/1631 [==============================] - 1205s 739ms/step - loss: 0.1354 - binary_accuracy: 0.9437 - val_loss: 0.2654 - val_binary_accuracy: 0.9003\n",
      "Epoch 11/50\n",
      "1631/1631 [==============================] - ETA: 0s - loss: 0.1205 - binary_accuracy: 0.9504\n",
      "Epoch 11: val_loss did not improve from 0.22492\n",
      "Epoch: 11\n",
      "Precision:  0.86  0.82  0.75  0.52  0.82  0.72  0.80  0.62  0.30  0.66  0.65  0.63  0.48  0.59  0.36  0.85  0.73  0.87  0.67  0.58  \n",
      "Recall:     0.52  0.73  0.76  0.09  0.41  0.58  0.59  0.36  0.46  0.56  0.39  0.42  0.21  0.26  0.13  0.67  0.50  0.86  0.61  0.73  \n",
      "AP:         0.58  0.66  0.64  0.06  0.48  0.53  0.57  0.25  0.15  0.39  0.34  0.33  0.12  0.16  0.06  0.67  0.44  0.84  0.49  0.45  \n",
      "mAP: 0.41\n",
      "\n",
      "1631/1631 [==============================] - 1260s 773ms/step - loss: 0.1205 - binary_accuracy: 0.9504 - val_loss: 0.2683 - val_binary_accuracy: 0.9049\n",
      "Epoch 12/50\n",
      "1631/1631 [==============================] - ETA: 0s - loss: 0.1062 - binary_accuracy: 0.9566\n",
      "Epoch 12: val_loss did not improve from 0.22492\n",
      "Epoch: 12\n",
      "Precision:  0.75  0.63  0.84  0.35  0.84  0.54  0.72  0.71  0.43  0.55  0.64  0.48  0.63  0.58  0.35  0.72  0.62  0.83  0.56  0.69  \n",
      "Recall:     0.65  0.88  0.52  0.21  0.34  0.76  0.67  0.30  0.29  0.67  0.37  0.62  0.16  0.15  0.21  0.84  0.63  0.92  0.73  0.58  \n",
      "AP:         0.59  0.59  0.59  0.09  0.45  0.47  0.56  0.24  0.14  0.39  0.32  0.34  0.12  0.10  0.09  0.65  0.44  0.82  0.46  0.44  \n",
      "mAP: 0.39\n",
      "\n",
      "1631/1631 [==============================] - 1265s 776ms/step - loss: 0.1062 - binary_accuracy: 0.9566 - val_loss: 0.3036 - val_binary_accuracy: 0.8931\n",
      "Epoch 13/50\n",
      "1631/1631 [==============================] - ETA: 0s - loss: 0.0950 - binary_accuracy: 0.9617\n",
      "Epoch 13: val_loss did not improve from 0.22492\n",
      "Epoch: 13\n",
      "Precision:  0.85  0.61  0.78  0.29  0.76  0.51  0.79  0.61  0.45  0.51  0.65  0.44  0.40  0.61  0.38  0.68  0.57  0.79  0.60  0.64  \n",
      "Recall:     0.47  0.90  0.69  0.28  0.50  0.84  0.58  0.39  0.16  0.70  0.37  0.69  0.27  0.22  0.20  0.86  0.67  0.96  0.65  0.55  \n",
      "AP:         0.55  0.58  0.64  0.10  0.50  0.47  0.56  0.26  0.09  0.37  0.32  0.34  0.13  0.15  0.09  0.63  0.43  0.78  0.46  0.40  \n",
      "mAP: 0.39\n",
      "\n",
      "1631/1631 [==============================] - 1334s 818ms/step - loss: 0.0950 - binary_accuracy: 0.9617 - val_loss: 0.3244 - val_binary_accuracy: 0.8900\n",
      "Epoch 14/50\n",
      "1631/1631 [==============================] - ETA: 0s - loss: 0.0851 - binary_accuracy: 0.9660\n",
      "Epoch 14: val_loss did not improve from 0.22492\n",
      "Restoring model weights from the end of the best epoch: 4.\n",
      "Epoch: 14\n",
      "Precision:  0.71  0.80  0.78  0.78  0.70  0.76  0.72  0.56  0.58  0.72  0.61  0.77  0.52  0.26  0.36  0.79  0.79  0.87  0.60  0.68  \n",
      "Recall:     0.74  0.77  0.72  0.03  0.58  0.47  0.69  0.36  0.05  0.47  0.43  0.17  0.20  0.51  0.03  0.77  0.40  0.83  0.58  0.55  \n",
      "AP:         0.59  0.67  0.65  0.04  0.51  0.50  0.57  0.23  0.05  0.36  0.34  0.22  0.12  0.14  0.02  0.68  0.41  0.84  0.43  0.42  \n",
      "mAP: 0.39\n",
      "\n",
      "1631/1631 [==============================] - 1288s 790ms/step - loss: 0.0851 - binary_accuracy: 0.9660 - val_loss: 0.3153 - val_binary_accuracy: 0.9005\n",
      "Epoch 14: early stopping\n"
     ]
    }
   ],
   "source": [
    "hist = inception_v3_model.fit(\n",
    "    train_generator,\n",
    "    steps_per_epoch=len(train_generator),\n",
    "    epochs=50,\n",
    "    validation_data=val_generator,\n",
    "    validation_steps=len(val_generator),\n",
    "    callbacks=[checkpoint_callback, early_stopping_callback, metrics_callback],\n",
    ")"
   ]
  },
  {
   "cell_type": "code",
   "execution_count": 20,
   "id": "34384456",
   "metadata": {
    "execution": {
     "iopub.execute_input": "2023-11-23T04:26:53.151094Z",
     "iopub.status.busy": "2023-11-23T04:26:53.150217Z",
     "iopub.status.idle": "2023-11-23T04:26:53.531094Z",
     "shell.execute_reply": "2023-11-23T04:26:53.530038Z"
    },
    "papermill": {
     "duration": 2.283877,
     "end_time": "2023-11-23T04:26:53.533170",
     "exception": false,
     "start_time": "2023-11-23T04:26:51.249293",
     "status": "completed"
    },
    "tags": []
   },
   "outputs": [
    {
     "data": {
      "image/png": "[encoded data removed]",
      "text/plain": [
       "<Figure size 1200x600 with 1 Axes>"
      ]
     },
     "metadata": {},
     "output_type": "display_data"
    }
   ],
   "source": [
    "import matplotlib.pyplot as plt\n",
    "\n",
    "plt.figure(figsize=(12, 6))\n",
    "plt.plot(hist.history[\"loss\"], label=\"loss\")\n",
    "plt.plot(hist.history[\"val_loss\"], label=\"val_loss\")\n",
    "plt.legend()\n",
    "plt.show()"
   ]
  },
  {
   "cell_type": "code",
   "execution_count": 21,
   "id": "45021914",
   "metadata": {
    "execution": {
     "iopub.execute_input": "2023-11-23T04:26:57.469432Z",
     "iopub.status.busy": "2023-11-23T04:26:57.468538Z",
     "iopub.status.idle": "2023-11-23T04:26:57.473481Z",
     "shell.execute_reply": "2023-11-23T04:26:57.472582Z"
    },
    "papermill": {
     "duration": 1.934145,
     "end_time": "2023-11-23T04:26:57.475664",
     "exception": false,
     "start_time": "2023-11-23T04:26:55.541519",
     "status": "completed"
    },
    "tags": []
   },
   "outputs": [
    {
     "name": "stdout",
     "output_type": "stream",
     "text": [
      "/kaggle/working/model_saver/inceptionv3.ckpt\n"
     ]
    }
   ],
   "source": [
    "print(checkpoint_path)"
   ]
  },
  {
   "cell_type": "code",
   "execution_count": 22,
   "id": "821c4d4f",
   "metadata": {
    "execution": {
     "iopub.execute_input": "2023-11-23T04:27:01.359877Z",
     "iopub.status.busy": "2023-11-23T04:27:01.359247Z",
     "iopub.status.idle": "2023-11-23T04:32:38.580653Z",
     "shell.execute_reply": "2023-11-23T04:32:38.579700Z"
    },
    "papermill": {
     "duration": 341.061337,
     "end_time": "2023-11-23T04:32:40.554096",
     "exception": false,
     "start_time": "2023-11-23T04:26:59.492759",
     "status": "completed"
    },
    "tags": []
   },
   "outputs": [
    {
     "name": "stdout",
     "output_type": "stream",
     "text": [
      "510/510 - 331s - loss: 0.2256 - binary_accuracy: 0.9028 - 331s/epoch - 649ms/step\n",
      "Loss: 0.22562755644321442\n",
      "Bianry_accuracy: 0.9028126001358032\n"
     ]
    }
   ],
   "source": [
    "best_model = inception_v3_create_model()\n",
    "\n",
    "best_model.load_weights(checkpoint_path)\n",
    "\n",
    "loss, acc = best_model.evaluate(test_generator, steps=len(test_generator), verbose=2)\n",
    "\n",
    "print(f\"Loss: {loss}\\nBianry_accuracy: {acc}\")"
   ]
  },
  {
   "cell_type": "code",
   "execution_count": 23,
   "id": "dccef97e",
   "metadata": {
    "execution": {
     "iopub.execute_input": "2023-11-23T04:32:44.482329Z",
     "iopub.status.busy": "2023-11-23T04:32:44.481677Z",
     "iopub.status.idle": "2023-11-23T04:32:45.816604Z",
     "shell.execute_reply": "2023-11-23T04:32:45.815368Z"
    },
    "papermill": {
     "duration": 3.270701,
     "end_time": "2023-11-23T04:32:45.818990",
     "exception": false,
     "start_time": "2023-11-23T04:32:42.548289",
     "status": "completed"
    },
    "tags": []
   },
   "outputs": [],
   "source": [
    "best_model.save(\"/kaggle/working/model_saver/best_model.keras\")"
   ]
  },
  {
   "cell_type": "markdown",
   "id": "660e03a6",
   "metadata": {
    "papermill": {
     "duration": 1.920048,
     "end_time": "2023-11-23T04:32:49.777333",
     "exception": false,
     "start_time": "2023-11-23T04:32:47.857285",
     "status": "completed"
    },
    "tags": []
   },
   "source": [
    "# Predict\n"
   ]
  },
  {
   "cell_type": "code",
   "execution_count": 24,
   "id": "fc11c280",
   "metadata": {
    "execution": {
     "iopub.execute_input": "2023-11-23T04:32:53.666122Z",
     "iopub.status.busy": "2023-11-23T04:32:53.665253Z",
     "iopub.status.idle": "2023-11-23T04:38:49.638455Z",
     "shell.execute_reply": "2023-11-23T04:38:49.637518Z"
    },
    "papermill": {
     "duration": 357.856057,
     "end_time": "2023-11-23T04:38:49.640981",
     "exception": false,
     "start_time": "2023-11-23T04:32:51.784924",
     "status": "completed"
    },
    "tags": []
   },
   "outputs": [],
   "source": [
    "# Khởi tạo empty arrays để lưu kết quả\n",
    "true_labels = []\n",
    "predicted_labels = []\n",
    "\n",
    "# Duyệt qua từng batch và tính toán\n",
    "for i in range(len(test_generator)):\n",
    "    images, labelss = test_generator[i]\n",
    "    true_labels.extend(labelss)\n",
    "\n",
    "    # Thực hiện dự đoán\n",
    "    predictions = best_model.predict(images, verbose=0)\n",
    "\n",
    "    # Chuyển đổi dự đoán thành nhãn binary (0 hoặc 1)\n",
    "    binary_predictions = (predictions > 0.5).astype(int)\n",
    "    predicted_labels.extend(binary_predictions)\n",
    "\n",
    "# Chuyển đổi danh sách thành numpy arrays\n",
    "true_labels = np.array(true_labels)\n",
    "predicted_labels = np.array(predicted_labels)\n",
    "\n",
    "# Tính precision và recall cho từng nhãn\n",
    "per_class_precision = precision_score(true_labels, predicted_labels, average=None)\n",
    "per_class_recall = recall_score(true_labels, predicted_labels, average=None)\n",
    "\n",
    "# Tính AP (Average Precision) cho từng nhãn\n",
    "ap_scores = average_precision_score(true_labels, predicted_labels, average=None)\n",
    "\n",
    "# Tính mAP (mean Average Precision)\n",
    "map_score = np.mean(ap_scores)"
   ]
  },
  {
   "cell_type": "code",
   "execution_count": 25,
   "id": "4738d118",
   "metadata": {
    "execution": {
     "iopub.execute_input": "2023-11-23T04:38:53.584147Z",
     "iopub.status.busy": "2023-11-23T04:38:53.583749Z",
     "iopub.status.idle": "2023-11-23T04:38:53.590845Z",
     "shell.execute_reply": "2023-11-23T04:38:53.589921Z"
    },
    "papermill": {
     "duration": 1.931832,
     "end_time": "2023-11-23T04:38:53.594197",
     "exception": false,
     "start_time": "2023-11-23T04:38:51.662365",
     "status": "completed"
    },
    "tags": []
   },
   "outputs": [
    {
     "name": "stdout",
     "output_type": "stream",
     "text": [
      "Label: Cháy_Baking-Burnt\n",
      "Precision: 0.7069041336851363\n",
      "Recall: 0.7487191429902189\n",
      "AP: 0.59544867677486\n",
      "------------------------------\n",
      "Label: Khôngđốm_Baking-Doesnothaveleopard-spotting\n",
      "Precision: 0.800978792822186\n",
      "Recall: 0.7377911344853494\n",
      "AP: 0.6551684837177277\n",
      "------------------------------\n",
      "Label: Màunhạt_Baking-Pale\n",
      "Precision: 0.7871113856289891\n",
      "Recall: 0.7390295766479799\n",
      "AP: 0.6644952822286714\n",
      "------------------------------\n",
      "Label: Lênmenthiếu_Fermentation-Lackfermentation\n",
      "Precision: 0.6521739130434783\n",
      "Recall: 0.05102040816326531\n",
      "AP: 0.05038549478429026\n",
      "------------------------------\n",
      "Label: Viềnkđều_Edge-Uneven\n",
      "Precision: 0.6846473029045643\n",
      "Recall: 0.588985211626721\n",
      "AP: 0.5021125153090933\n",
      "------------------------------\n",
      "Label: Viềnnhỏ_Edge-Toosmall\n",
      "Precision: 0.7504424778761062\n",
      "Recall: 0.46593406593406594\n",
      "AP: 0.4986907536049039\n",
      "------------------------------\n",
      "Label: Viềnto_Edge-Toobig\n",
      "Precision: 0.707208460896187\n",
      "Recall: 0.6836158192090396\n",
      "AP: 0.5555840063425111\n",
      "------------------------------\n",
      "Label: Viềnthấp_Edge-Toolow\n",
      "Precision: 0.5972850678733032\n",
      "Recall: 0.35436241610738256\n",
      "AP: 0.24115553308364593\n",
      "------------------------------\n",
      "Label: Quátheoviền_Topping-Toostrongshapingtheedge\n",
      "Precision: 0.7142857142857143\n",
      "Recall: 0.030395136778115502\n",
      "AP: 0.0412753627356715\n",
      "------------------------------\n",
      "Label: Topping-Khôngđúng_incorrectportioning\n",
      "Precision: 0.6842105263157895\n",
      "Recall: 0.4431818181818182\n",
      "AP: 0.33027658319504544\n",
      "------------------------------\n",
      "Label: KhôngcânTopping-Notevenhalfandhalf\n",
      "Precision: 0.6216032608695652\n",
      "Recall: 0.42857142857142855\n",
      "AP: 0.3412250712352458\n",
      "------------------------------\n",
      "Label: Sốttrênmép_Topping-Saucecoveringontheedge\n",
      "Precision: 0.7652173913043478\n",
      "Recall: 0.15025611838360842\n",
      "AP: 0.2065455989235293\n",
      "------------------------------\n",
      "Label: Trộnlẫn_Topping-Bended\n",
      "Precision: 0.4666666666666667\n",
      "Recall: 0.14202898550724638\n",
      "AP: 0.08443413374576128\n",
      "------------------------------\n",
      "Label: Quátậptrung_Topping-Toppingtoocentered\n",
      "Precision: 0.2997275204359673\n",
      "Recall: 0.5670103092783505\n",
      "AP: 0.1751003879898738\n",
      "------------------------------\n",
      "Label: Topping-Khôngđều_Noteven\n",
      "Precision: 0.47368421052631576\n",
      "Recall: 0.035856573705179286\n",
      "AP: 0.03182676579146382\n",
      "------------------------------\n",
      "Label: Thiếubóng_toofewballs\n",
      "Precision: 0.7888563049853372\n",
      "Recall: 0.7629659643435981\n",
      "AP: 0.6736276411764768\n",
      "------------------------------\n",
      "Label: Nởviềnkhôngđủ_edgepizzaisnotenoughswollen\n",
      "Precision: 0.7966666666666666\n",
      "Recall: 0.40628984275393115\n",
      "AP: 0.40935681422438525\n",
      "------------------------------\n",
      "Label: Bánhkhôngtròn_Distortedshape\n",
      "Precision: 0.8696899583526145\n",
      "Recall: 0.8288788921231366\n",
      "AP: 0.839849556560303\n",
      "------------------------------\n",
      "Label: Bánhbé_Size-Toosmall\n",
      "Precision: 0.5951327433628318\n",
      "Recall: 0.5912087912087912\n",
      "AP: 0.43170051570007606\n",
      "------------------------------\n",
      "Label: Phômaicao_Topping-Cheesetoohigh\n",
      "Precision: 0.7011494252873564\n",
      "Recall: 0.5671121441022661\n",
      "AP: 0.4433218595838907\n",
      "------------------------------\n",
      "mAP: 0.3885790518353713\n"
     ]
    }
   ],
   "source": [
    "# Hiển thị kết quả\n",
    "for label, precision, recall, ap in zip(\n",
    "    labels, per_class_precision, per_class_recall, ap_scores\n",
    "):\n",
    "    print(f\"Label: {label}\")\n",
    "    print(f\"Precision: {precision}\")\n",
    "    print(f\"Recall: {recall}\")\n",
    "    print(f\"AP: {ap}\")\n",
    "    print(\"-\" * 30)\n",
    "\n",
    "print(f\"mAP: {map_score}\")"
   ]
  },
  {
   "cell_type": "code",
   "execution_count": 26,
   "id": "dc88a99a",
   "metadata": {
    "execution": {
     "iopub.execute_input": "2023-11-23T04:38:57.677718Z",
     "iopub.status.busy": "2023-11-23T04:38:57.677361Z",
     "iopub.status.idle": "2023-11-23T04:38:57.730228Z",
     "shell.execute_reply": "2023-11-23T04:38:57.729341Z"
    },
    "papermill": {
     "duration": 2.129933,
     "end_time": "2023-11-23T04:38:57.732384",
     "exception": false,
     "start_time": "2023-11-23T04:38:55.602451",
     "status": "completed"
    },
    "tags": []
   },
   "outputs": [
    {
     "data": {
      "text/html": [
       "<div>\n",
       "<style scoped>\n",
       "    .dataframe tbody tr th:only-of-type {\n",
       "        vertical-align: middle;\n",
       "    }\n",
       "\n",
       "    .dataframe tbody tr th {\n",
       "        vertical-align: top;\n",
       "    }\n",
       "\n",
       "    .dataframe thead th {\n",
       "        text-align: right;\n",
       "    }\n",
       "</style>\n",
       "<table border=\"1\" class=\"dataframe\">\n",
       "  <thead>\n",
       "    <tr style=\"text-align: right;\">\n",
       "      <th></th>\n",
       "      <th>_id</th>\n",
       "      <th>image_url</th>\n",
       "      <th>Cháy_Baking-Burnt</th>\n",
       "      <th>Khôngđốm_Baking-Doesnothaveleopard-spotting</th>\n",
       "      <th>Màunhạt_Baking-Pale</th>\n",
       "      <th>Lênmenthiếu_Fermentation-Lackfermentation</th>\n",
       "      <th>Lênmenquánhiều_Fermentation-Overfermentation</th>\n",
       "      <th>Viềnkđều_Edge-Uneven</th>\n",
       "      <th>Viềnnhỏ_Edge-Toosmall</th>\n",
       "      <th>Viềnto_Edge-Toobig</th>\n",
       "      <th>...</th>\n",
       "      <th>Quátậptrung_Topping-Toppingtoocentered</th>\n",
       "      <th>Topping-Khôngđều_Noteven</th>\n",
       "      <th>Khônghìnhtròn_Topping-Notcircled</th>\n",
       "      <th>Thiếubóng_toofewballs</th>\n",
       "      <th>Nởviềnkhôngđủ_edgepizzaisnotenoughswollen</th>\n",
       "      <th>Bánhkhôngtròn_Distortedshape</th>\n",
       "      <th>Bánhbé_Size-Toosmall</th>\n",
       "      <th>Bánhlớn_Size-Toobig</th>\n",
       "      <th>Phômaicao_Topping-Cheesetoohigh</th>\n",
       "      <th>image_error</th>\n",
       "    </tr>\n",
       "  </thead>\n",
       "  <tbody>\n",
       "    <tr>\n",
       "      <th>0</th>\n",
       "      <td>644a51aae280ef002847f69e.jpg</td>\n",
       "      <td>https://oven-bucket.pizza4ps.io/images/2023042...</td>\n",
       "      <td>0</td>\n",
       "      <td>0</td>\n",
       "      <td>0</td>\n",
       "      <td>0</td>\n",
       "      <td>0</td>\n",
       "      <td>0</td>\n",
       "      <td>0</td>\n",
       "      <td>0</td>\n",
       "      <td>...</td>\n",
       "      <td>0</td>\n",
       "      <td>0</td>\n",
       "      <td>0</td>\n",
       "      <td>0</td>\n",
       "      <td>0</td>\n",
       "      <td>0</td>\n",
       "      <td>0</td>\n",
       "      <td>0</td>\n",
       "      <td>0</td>\n",
       "      <td>1</td>\n",
       "    </tr>\n",
       "    <tr>\n",
       "      <th>1</th>\n",
       "      <td>644a5224e280ef002847f6a1.jpg</td>\n",
       "      <td>https://oven-bucket.pizza4ps.io/images/2023042...</td>\n",
       "      <td>0</td>\n",
       "      <td>0</td>\n",
       "      <td>0</td>\n",
       "      <td>0</td>\n",
       "      <td>0</td>\n",
       "      <td>0</td>\n",
       "      <td>0</td>\n",
       "      <td>0</td>\n",
       "      <td>...</td>\n",
       "      <td>0</td>\n",
       "      <td>0</td>\n",
       "      <td>0</td>\n",
       "      <td>0</td>\n",
       "      <td>0</td>\n",
       "      <td>0</td>\n",
       "      <td>0</td>\n",
       "      <td>0</td>\n",
       "      <td>0</td>\n",
       "      <td>1</td>\n",
       "    </tr>\n",
       "    <tr>\n",
       "      <th>2</th>\n",
       "      <td>644a52d0e280ef002847f6ab.jpg</td>\n",
       "      <td>https://oven-bucket.pizza4ps.io/images/2023042...</td>\n",
       "      <td>0</td>\n",
       "      <td>0</td>\n",
       "      <td>0</td>\n",
       "      <td>0</td>\n",
       "      <td>0</td>\n",
       "      <td>0</td>\n",
       "      <td>0</td>\n",
       "      <td>0</td>\n",
       "      <td>...</td>\n",
       "      <td>0</td>\n",
       "      <td>0</td>\n",
       "      <td>0</td>\n",
       "      <td>0</td>\n",
       "      <td>0</td>\n",
       "      <td>0</td>\n",
       "      <td>0</td>\n",
       "      <td>0</td>\n",
       "      <td>0</td>\n",
       "      <td>1</td>\n",
       "    </tr>\n",
       "    <tr>\n",
       "      <th>3</th>\n",
       "      <td>644a5370e280ef002847f6b0.jpg</td>\n",
       "      <td>https://oven-bucket.pizza4ps.io/images/2023042...</td>\n",
       "      <td>0</td>\n",
       "      <td>0</td>\n",
       "      <td>0</td>\n",
       "      <td>0</td>\n",
       "      <td>0</td>\n",
       "      <td>0</td>\n",
       "      <td>0</td>\n",
       "      <td>0</td>\n",
       "      <td>...</td>\n",
       "      <td>0</td>\n",
       "      <td>0</td>\n",
       "      <td>0</td>\n",
       "      <td>0</td>\n",
       "      <td>0</td>\n",
       "      <td>0</td>\n",
       "      <td>0</td>\n",
       "      <td>0</td>\n",
       "      <td>0</td>\n",
       "      <td>1</td>\n",
       "    </tr>\n",
       "    <tr>\n",
       "      <th>4</th>\n",
       "      <td>644a5381e280ef002847f6b2.jpg</td>\n",
       "      <td>https://oven-bucket.pizza4ps.io/images/2023042...</td>\n",
       "      <td>0</td>\n",
       "      <td>0</td>\n",
       "      <td>0</td>\n",
       "      <td>0</td>\n",
       "      <td>0</td>\n",
       "      <td>0</td>\n",
       "      <td>0</td>\n",
       "      <td>0</td>\n",
       "      <td>...</td>\n",
       "      <td>0</td>\n",
       "      <td>0</td>\n",
       "      <td>0</td>\n",
       "      <td>0</td>\n",
       "      <td>0</td>\n",
       "      <td>0</td>\n",
       "      <td>0</td>\n",
       "      <td>0</td>\n",
       "      <td>0</td>\n",
       "      <td>1</td>\n",
       "    </tr>\n",
       "    <tr>\n",
       "      <th>...</th>\n",
       "      <td>...</td>\n",
       "      <td>...</td>\n",
       "      <td>...</td>\n",
       "      <td>...</td>\n",
       "      <td>...</td>\n",
       "      <td>...</td>\n",
       "      <td>...</td>\n",
       "      <td>...</td>\n",
       "      <td>...</td>\n",
       "      <td>...</td>\n",
       "      <td>...</td>\n",
       "      <td>...</td>\n",
       "      <td>...</td>\n",
       "      <td>...</td>\n",
       "      <td>...</td>\n",
       "      <td>...</td>\n",
       "      <td>...</td>\n",
       "      <td>...</td>\n",
       "      <td>...</td>\n",
       "      <td>...</td>\n",
       "      <td>...</td>\n",
       "    </tr>\n",
       "    <tr>\n",
       "      <th>16300</th>\n",
       "      <td>64acfabca2f5430028b154f0.jpg</td>\n",
       "      <td>https://oven-bucket.pizza4ps.io/images/2023071...</td>\n",
       "      <td>1</td>\n",
       "      <td>0</td>\n",
       "      <td>0</td>\n",
       "      <td>0</td>\n",
       "      <td>0</td>\n",
       "      <td>0</td>\n",
       "      <td>0</td>\n",
       "      <td>1</td>\n",
       "      <td>...</td>\n",
       "      <td>0</td>\n",
       "      <td>1</td>\n",
       "      <td>0</td>\n",
       "      <td>0</td>\n",
       "      <td>0</td>\n",
       "      <td>1</td>\n",
       "      <td>0</td>\n",
       "      <td>0</td>\n",
       "      <td>0</td>\n",
       "      <td>0</td>\n",
       "    </tr>\n",
       "    <tr>\n",
       "      <th>16301</th>\n",
       "      <td>64acfb40a2f5430028b154f1.jpg</td>\n",
       "      <td>https://oven-bucket.pizza4ps.io/images/2023071...</td>\n",
       "      <td>0</td>\n",
       "      <td>0</td>\n",
       "      <td>0</td>\n",
       "      <td>0</td>\n",
       "      <td>0</td>\n",
       "      <td>0</td>\n",
       "      <td>0</td>\n",
       "      <td>1</td>\n",
       "      <td>...</td>\n",
       "      <td>0</td>\n",
       "      <td>0</td>\n",
       "      <td>0</td>\n",
       "      <td>0</td>\n",
       "      <td>0</td>\n",
       "      <td>1</td>\n",
       "      <td>0</td>\n",
       "      <td>0</td>\n",
       "      <td>0</td>\n",
       "      <td>0</td>\n",
       "    </tr>\n",
       "    <tr>\n",
       "      <th>16302</th>\n",
       "      <td>64acfc97a2f5430028b154f4.jpg</td>\n",
       "      <td>https://oven-bucket.pizza4ps.io/images/2023071...</td>\n",
       "      <td>1</td>\n",
       "      <td>1</td>\n",
       "      <td>0</td>\n",
       "      <td>0</td>\n",
       "      <td>0</td>\n",
       "      <td>1</td>\n",
       "      <td>0</td>\n",
       "      <td>0</td>\n",
       "      <td>...</td>\n",
       "      <td>0</td>\n",
       "      <td>0</td>\n",
       "      <td>0</td>\n",
       "      <td>1</td>\n",
       "      <td>0</td>\n",
       "      <td>1</td>\n",
       "      <td>0</td>\n",
       "      <td>0</td>\n",
       "      <td>0</td>\n",
       "      <td>0</td>\n",
       "    </tr>\n",
       "    <tr>\n",
       "      <th>16303</th>\n",
       "      <td>64ad00b3a2f5430028b154f9.jpg</td>\n",
       "      <td>https://oven-bucket.pizza4ps.io/images/2023071...</td>\n",
       "      <td>0</td>\n",
       "      <td>0</td>\n",
       "      <td>1</td>\n",
       "      <td>0</td>\n",
       "      <td>0</td>\n",
       "      <td>1</td>\n",
       "      <td>0</td>\n",
       "      <td>0</td>\n",
       "      <td>...</td>\n",
       "      <td>0</td>\n",
       "      <td>0</td>\n",
       "      <td>0</td>\n",
       "      <td>1</td>\n",
       "      <td>0</td>\n",
       "      <td>1</td>\n",
       "      <td>1</td>\n",
       "      <td>0</td>\n",
       "      <td>0</td>\n",
       "      <td>0</td>\n",
       "    </tr>\n",
       "    <tr>\n",
       "      <th>16304</th>\n",
       "      <td>64ad0192a2f5430028b154fc.jpg</td>\n",
       "      <td>https://oven-bucket.pizza4ps.io/images/2023071...</td>\n",
       "      <td>0</td>\n",
       "      <td>1</td>\n",
       "      <td>0</td>\n",
       "      <td>0</td>\n",
       "      <td>0</td>\n",
       "      <td>0</td>\n",
       "      <td>0</td>\n",
       "      <td>0</td>\n",
       "      <td>...</td>\n",
       "      <td>0</td>\n",
       "      <td>0</td>\n",
       "      <td>0</td>\n",
       "      <td>1</td>\n",
       "      <td>0</td>\n",
       "      <td>1</td>\n",
       "      <td>0</td>\n",
       "      <td>0</td>\n",
       "      <td>0</td>\n",
       "      <td>0</td>\n",
       "    </tr>\n",
       "  </tbody>\n",
       "</table>\n",
       "<p>16305 rows × 26 columns</p>\n",
       "</div>"
      ],
      "text/plain": [
       "                                _id  \\\n",
       "0      644a51aae280ef002847f69e.jpg   \n",
       "1      644a5224e280ef002847f6a1.jpg   \n",
       "2      644a52d0e280ef002847f6ab.jpg   \n",
       "3      644a5370e280ef002847f6b0.jpg   \n",
       "4      644a5381e280ef002847f6b2.jpg   \n",
       "...                             ...   \n",
       "16300  64acfabca2f5430028b154f0.jpg   \n",
       "16301  64acfb40a2f5430028b154f1.jpg   \n",
       "16302  64acfc97a2f5430028b154f4.jpg   \n",
       "16303  64ad00b3a2f5430028b154f9.jpg   \n",
       "16304  64ad0192a2f5430028b154fc.jpg   \n",
       "\n",
       "                                               image_url  Cháy_Baking-Burnt  \\\n",
       "0      https://oven-bucket.pizza4ps.io/images/2023042...                  0   \n",
       "1      https://oven-bucket.pizza4ps.io/images/2023042...                  0   \n",
       "2      https://oven-bucket.pizza4ps.io/images/2023042...                  0   \n",
       "3      https://oven-bucket.pizza4ps.io/images/2023042...                  0   \n",
       "4      https://oven-bucket.pizza4ps.io/images/2023042...                  0   \n",
       "...                                                  ...                ...   \n",
       "16300  https://oven-bucket.pizza4ps.io/images/2023071...                  1   \n",
       "16301  https://oven-bucket.pizza4ps.io/images/2023071...                  0   \n",
       "16302  https://oven-bucket.pizza4ps.io/images/2023071...                  1   \n",
       "16303  https://oven-bucket.pizza4ps.io/images/2023071...                  0   \n",
       "16304  https://oven-bucket.pizza4ps.io/images/2023071...                  0   \n",
       "\n",
       "       Khôngđốm_Baking-Doesnothaveleopard-spotting  Màunhạt_Baking-Pale  \\\n",
       "0                                                0                    0   \n",
       "1                                                0                    0   \n",
       "2                                                0                    0   \n",
       "3                                                0                    0   \n",
       "4                                                0                    0   \n",
       "...                                            ...                  ...   \n",
       "16300                                            0                    0   \n",
       "16301                                            0                    0   \n",
       "16302                                            1                    0   \n",
       "16303                                            0                    1   \n",
       "16304                                            1                    0   \n",
       "\n",
       "       Lênmenthiếu_Fermentation-Lackfermentation  \\\n",
       "0                                              0   \n",
       "1                                              0   \n",
       "2                                              0   \n",
       "3                                              0   \n",
       "4                                              0   \n",
       "...                                          ...   \n",
       "16300                                          0   \n",
       "16301                                          0   \n",
       "16302                                          0   \n",
       "16303                                          0   \n",
       "16304                                          0   \n",
       "\n",
       "       Lênmenquánhiều_Fermentation-Overfermentation  Viềnkđều_Edge-Uneven  \\\n",
       "0                                                 0                     0   \n",
       "1                                                 0                     0   \n",
       "2                                                 0                     0   \n",
       "3                                                 0                     0   \n",
       "4                                                 0                     0   \n",
       "...                                             ...                   ...   \n",
       "16300                                             0                     0   \n",
       "16301                                             0                     0   \n",
       "16302                                             0                     1   \n",
       "16303                                             0                     1   \n",
       "16304                                             0                     0   \n",
       "\n",
       "       Viềnnhỏ_Edge-Toosmall  Viềnto_Edge-Toobig  ...  \\\n",
       "0                          0                   0  ...   \n",
       "1                          0                   0  ...   \n",
       "2                          0                   0  ...   \n",
       "3                          0                   0  ...   \n",
       "4                          0                   0  ...   \n",
       "...                      ...                 ...  ...   \n",
       "16300                      0                   1  ...   \n",
       "16301                      0                   1  ...   \n",
       "16302                      0                   0  ...   \n",
       "16303                      0                   0  ...   \n",
       "16304                      0                   0  ...   \n",
       "\n",
       "       Quátậptrung_Topping-Toppingtoocentered  Topping-Khôngđều_Noteven  \\\n",
       "0                                           0                         0   \n",
       "1                                           0                         0   \n",
       "2                                           0                         0   \n",
       "3                                           0                         0   \n",
       "4                                           0                         0   \n",
       "...                                       ...                       ...   \n",
       "16300                                       0                         1   \n",
       "16301                                       0                         0   \n",
       "16302                                       0                         0   \n",
       "16303                                       0                         0   \n",
       "16304                                       0                         0   \n",
       "\n",
       "       Khônghìnhtròn_Topping-Notcircled  Thiếubóng_toofewballs  \\\n",
       "0                                     0                      0   \n",
       "1                                     0                      0   \n",
       "2                                     0                      0   \n",
       "3                                     0                      0   \n",
       "4                                     0                      0   \n",
       "...                                 ...                    ...   \n",
       "16300                                 0                      0   \n",
       "16301                                 0                      0   \n",
       "16302                                 0                      1   \n",
       "16303                                 0                      1   \n",
       "16304                                 0                      1   \n",
       "\n",
       "       Nởviềnkhôngđủ_edgepizzaisnotenoughswollen  \\\n",
       "0                                              0   \n",
       "1                                              0   \n",
       "2                                              0   \n",
       "3                                              0   \n",
       "4                                              0   \n",
       "...                                          ...   \n",
       "16300                                          0   \n",
       "16301                                          0   \n",
       "16302                                          0   \n",
       "16303                                          0   \n",
       "16304                                          0   \n",
       "\n",
       "       Bánhkhôngtròn_Distortedshape  Bánhbé_Size-Toosmall  \\\n",
       "0                                 0                     0   \n",
       "1                                 0                     0   \n",
       "2                                 0                     0   \n",
       "3                                 0                     0   \n",
       "4                                 0                     0   \n",
       "...                             ...                   ...   \n",
       "16300                             1                     0   \n",
       "16301                             1                     0   \n",
       "16302                             1                     0   \n",
       "16303                             1                     1   \n",
       "16304                             1                     0   \n",
       "\n",
       "       Bánhlớn_Size-Toobig  Phômaicao_Topping-Cheesetoohigh  image_error  \n",
       "0                        0                                0            1  \n",
       "1                        0                                0            1  \n",
       "2                        0                                0            1  \n",
       "3                        0                                0            1  \n",
       "4                        0                                0            1  \n",
       "...                    ...                              ...          ...  \n",
       "16300                    0                                0            0  \n",
       "16301                    0                                0            0  \n",
       "16302                    0                                0            0  \n",
       "16303                    0                                0            0  \n",
       "16304                    0                                0            0  \n",
       "\n",
       "[16305 rows x 26 columns]"
      ]
     },
     "execution_count": 26,
     "metadata": {},
     "output_type": "execute_result"
    }
   ],
   "source": [
    "test_data"
   ]
  },
  {
   "cell_type": "code",
   "execution_count": 27,
   "id": "26ae713b",
   "metadata": {
    "execution": {
     "iopub.execute_input": "2023-11-23T04:39:01.688933Z",
     "iopub.status.busy": "2023-11-23T04:39:01.688580Z",
     "iopub.status.idle": "2023-11-23T04:39:01.693060Z",
     "shell.execute_reply": "2023-11-23T04:39:01.692157Z"
    },
    "papermill": {
     "duration": 2.032731,
     "end_time": "2023-11-23T04:39:01.695136",
     "exception": false,
     "start_time": "2023-11-23T04:38:59.662405",
     "status": "completed"
    },
    "tags": []
   },
   "outputs": [],
   "source": [
    "image_path_test = (\n",
    "    \"/kaggle/input/pizza-image-error-classification/image_input/image_input/\"\n",
    ")\n",
    "_id_name = \"64ad0192a2f5430028b154fc.jpg\""
   ]
  },
  {
   "cell_type": "code",
   "execution_count": 28,
   "id": "7015e2d7",
   "metadata": {
    "execution": {
     "iopub.execute_input": "2023-11-23T04:39:05.692523Z",
     "iopub.status.busy": "2023-11-23T04:39:05.691469Z",
     "iopub.status.idle": "2023-11-23T04:39:05.696062Z",
     "shell.execute_reply": "2023-11-23T04:39:05.695198Z"
    },
    "papermill": {
     "duration": 2.038954,
     "end_time": "2023-11-23T04:39:05.698065",
     "exception": false,
     "start_time": "2023-11-23T04:39:03.659111",
     "status": "completed"
    },
    "tags": []
   },
   "outputs": [],
   "source": [
    "path = image_path_test + _id_name"
   ]
  },
  {
   "cell_type": "code",
   "execution_count": 29,
   "id": "fa5b10a0",
   "metadata": {
    "execution": {
     "iopub.execute_input": "2023-11-23T04:39:09.748735Z",
     "iopub.status.busy": "2023-11-23T04:39:09.747764Z",
     "iopub.status.idle": "2023-11-23T04:39:09.758830Z",
     "shell.execute_reply": "2023-11-23T04:39:09.757761Z"
    },
    "papermill": {
     "duration": 2.091375,
     "end_time": "2023-11-23T04:39:09.761171",
     "exception": false,
     "start_time": "2023-11-23T04:39:07.669796",
     "status": "completed"
    },
    "tags": []
   },
   "outputs": [],
   "source": [
    "test_id = test_data[test_data[\"_id\"] == _id_name]"
   ]
  },
  {
   "cell_type": "code",
   "execution_count": 30,
   "id": "1725776e",
   "metadata": {
    "execution": {
     "iopub.execute_input": "2023-11-23T04:39:13.745362Z",
     "iopub.status.busy": "2023-11-23T04:39:13.744895Z",
     "iopub.status.idle": "2023-11-23T04:39:13.762569Z",
     "shell.execute_reply": "2023-11-23T04:39:13.761721Z"
    },
    "papermill": {
     "duration": 2.060467,
     "end_time": "2023-11-23T04:39:13.764911",
     "exception": false,
     "start_time": "2023-11-23T04:39:11.704444",
     "status": "completed"
    },
    "tags": []
   },
   "outputs": [
    {
     "data": {
      "text/html": [
       "<div>\n",
       "<style scoped>\n",
       "    .dataframe tbody tr th:only-of-type {\n",
       "        vertical-align: middle;\n",
       "    }\n",
       "\n",
       "    .dataframe tbody tr th {\n",
       "        vertical-align: top;\n",
       "    }\n",
       "\n",
       "    .dataframe thead th {\n",
       "        text-align: right;\n",
       "    }\n",
       "</style>\n",
       "<table border=\"1\" class=\"dataframe\">\n",
       "  <thead>\n",
       "    <tr style=\"text-align: right;\">\n",
       "      <th></th>\n",
       "      <th>_id</th>\n",
       "      <th>image_url</th>\n",
       "      <th>Cháy_Baking-Burnt</th>\n",
       "      <th>Khôngđốm_Baking-Doesnothaveleopard-spotting</th>\n",
       "      <th>Màunhạt_Baking-Pale</th>\n",
       "      <th>Lênmenthiếu_Fermentation-Lackfermentation</th>\n",
       "      <th>Lênmenquánhiều_Fermentation-Overfermentation</th>\n",
       "      <th>Viềnkđều_Edge-Uneven</th>\n",
       "      <th>Viềnnhỏ_Edge-Toosmall</th>\n",
       "      <th>Viềnto_Edge-Toobig</th>\n",
       "      <th>...</th>\n",
       "      <th>Quátậptrung_Topping-Toppingtoocentered</th>\n",
       "      <th>Topping-Khôngđều_Noteven</th>\n",
       "      <th>Khônghìnhtròn_Topping-Notcircled</th>\n",
       "      <th>Thiếubóng_toofewballs</th>\n",
       "      <th>Nởviềnkhôngđủ_edgepizzaisnotenoughswollen</th>\n",
       "      <th>Bánhkhôngtròn_Distortedshape</th>\n",
       "      <th>Bánhbé_Size-Toosmall</th>\n",
       "      <th>Bánhlớn_Size-Toobig</th>\n",
       "      <th>Phômaicao_Topping-Cheesetoohigh</th>\n",
       "      <th>image_error</th>\n",
       "    </tr>\n",
       "  </thead>\n",
       "  <tbody>\n",
       "    <tr>\n",
       "      <th>16304</th>\n",
       "      <td>64ad0192a2f5430028b154fc.jpg</td>\n",
       "      <td>https://oven-bucket.pizza4ps.io/images/2023071...</td>\n",
       "      <td>0</td>\n",
       "      <td>1</td>\n",
       "      <td>0</td>\n",
       "      <td>0</td>\n",
       "      <td>0</td>\n",
       "      <td>0</td>\n",
       "      <td>0</td>\n",
       "      <td>0</td>\n",
       "      <td>...</td>\n",
       "      <td>0</td>\n",
       "      <td>0</td>\n",
       "      <td>0</td>\n",
       "      <td>1</td>\n",
       "      <td>0</td>\n",
       "      <td>1</td>\n",
       "      <td>0</td>\n",
       "      <td>0</td>\n",
       "      <td>0</td>\n",
       "      <td>0</td>\n",
       "    </tr>\n",
       "  </tbody>\n",
       "</table>\n",
       "<p>1 rows × 26 columns</p>\n",
       "</div>"
      ],
      "text/plain": [
       "                                _id  \\\n",
       "16304  64ad0192a2f5430028b154fc.jpg   \n",
       "\n",
       "                                               image_url  Cháy_Baking-Burnt  \\\n",
       "16304  https://oven-bucket.pizza4ps.io/images/2023071...                  0   \n",
       "\n",
       "       Khôngđốm_Baking-Doesnothaveleopard-spotting  Màunhạt_Baking-Pale  \\\n",
       "16304                                            1                    0   \n",
       "\n",
       "       Lênmenthiếu_Fermentation-Lackfermentation  \\\n",
       "16304                                          0   \n",
       "\n",
       "       Lênmenquánhiều_Fermentation-Overfermentation  Viềnkđều_Edge-Uneven  \\\n",
       "16304                                             0                     0   \n",
       "\n",
       "       Viềnnhỏ_Edge-Toosmall  Viềnto_Edge-Toobig  ...  \\\n",
       "16304                      0                   0  ...   \n",
       "\n",
       "       Quátậptrung_Topping-Toppingtoocentered  Topping-Khôngđều_Noteven  \\\n",
       "16304                                       0                         0   \n",
       "\n",
       "       Khônghìnhtròn_Topping-Notcircled  Thiếubóng_toofewballs  \\\n",
       "16304                                 0                      1   \n",
       "\n",
       "       Nởviềnkhôngđủ_edgepizzaisnotenoughswollen  \\\n",
       "16304                                          0   \n",
       "\n",
       "       Bánhkhôngtròn_Distortedshape  Bánhbé_Size-Toosmall  \\\n",
       "16304                             1                     0   \n",
       "\n",
       "       Bánhlớn_Size-Toobig  Phômaicao_Topping-Cheesetoohigh  image_error  \n",
       "16304                    0                                0            0  \n",
       "\n",
       "[1 rows x 26 columns]"
      ]
     },
     "execution_count": 30,
     "metadata": {},
     "output_type": "execute_result"
    }
   ],
   "source": [
    "test_id"
   ]
  },
  {
   "cell_type": "code",
   "execution_count": 31,
   "id": "cea2b663",
   "metadata": {
    "execution": {
     "iopub.execute_input": "2023-11-23T04:39:17.833814Z",
     "iopub.status.busy": "2023-11-23T04:39:17.832937Z",
     "iopub.status.idle": "2023-11-23T04:39:17.842086Z",
     "shell.execute_reply": "2023-11-23T04:39:17.841036Z"
    },
    "papermill": {
     "duration": 2.0574,
     "end_time": "2023-11-23T04:39:17.844327",
     "exception": false,
     "start_time": "2023-11-23T04:39:15.786927",
     "status": "completed"
    },
    "tags": []
   },
   "outputs": [],
   "source": [
    "real_labels = test_id[labels]"
   ]
  },
  {
   "cell_type": "code",
   "execution_count": 32,
   "id": "1ac2fcb0",
   "metadata": {
    "execution": {
     "iopub.execute_input": "2023-11-23T04:39:21.785518Z",
     "iopub.status.busy": "2023-11-23T04:39:21.785077Z",
     "iopub.status.idle": "2023-11-23T04:39:21.789914Z",
     "shell.execute_reply": "2023-11-23T04:39:21.788942Z"
    },
    "papermill": {
     "duration": 2.000716,
     "end_time": "2023-11-23T04:39:21.791863",
     "exception": false,
     "start_time": "2023-11-23T04:39:19.791147",
     "status": "completed"
    },
    "tags": []
   },
   "outputs": [],
   "source": [
    "real_labels = np.array(real_labels)"
   ]
  },
  {
   "cell_type": "code",
   "execution_count": 33,
   "id": "93a66f85",
   "metadata": {
    "execution": {
     "iopub.execute_input": "2023-11-23T04:39:25.690228Z",
     "iopub.status.busy": "2023-11-23T04:39:25.689827Z",
     "iopub.status.idle": "2023-11-23T04:39:25.694957Z",
     "shell.execute_reply": "2023-11-23T04:39:25.694053Z"
    },
    "papermill": {
     "duration": 1.991532,
     "end_time": "2023-11-23T04:39:25.697755",
     "exception": false,
     "start_time": "2023-11-23T04:39:23.706223",
     "status": "completed"
    },
    "tags": []
   },
   "outputs": [
    {
     "name": "stdout",
     "output_type": "stream",
     "text": [
      "[[0 1 0 0 0 0 0 0 0 0 0 0 0 0 0 1 0 1 0 0]]\n"
     ]
    }
   ],
   "source": [
    "print(real_labels)"
   ]
  },
  {
   "cell_type": "code",
   "execution_count": 34,
   "id": "70dd9d2b",
   "metadata": {
    "execution": {
     "iopub.execute_input": "2023-11-23T04:39:29.708300Z",
     "iopub.status.busy": "2023-11-23T04:39:29.707828Z",
     "iopub.status.idle": "2023-11-23T04:39:29.713748Z",
     "shell.execute_reply": "2023-11-23T04:39:29.712810Z"
    },
    "papermill": {
     "duration": 2.029436,
     "end_time": "2023-11-23T04:39:29.716408",
     "exception": false,
     "start_time": "2023-11-23T04:39:27.686972",
     "status": "completed"
    },
    "tags": []
   },
   "outputs": [
    {
     "name": "stdout",
     "output_type": "stream",
     "text": [
      "[['Khôngđốm_Baking-Doesnothaveleopard-spotting', 'Thiếubóng_toofewballs', 'Bánhkhôngtròn_Distortedshape']]\n"
     ]
    }
   ],
   "source": [
    "real_labels_name = []\n",
    "for i in range(len(real_labels)):\n",
    "    real_labels_name.append([])\n",
    "    for j in range(len(real_labels[i])):\n",
    "        if real_labels[i][j] == 1:\n",
    "            real_labels_name[i].append(labels[j])\n",
    "\n",
    "print(real_labels_name)"
   ]
  },
  {
   "cell_type": "code",
   "execution_count": 35,
   "id": "f4a97031",
   "metadata": {
    "execution": {
     "iopub.execute_input": "2023-11-23T04:39:33.668496Z",
     "iopub.status.busy": "2023-11-23T04:39:33.668113Z",
     "iopub.status.idle": "2023-11-23T04:39:35.006490Z",
     "shell.execute_reply": "2023-11-23T04:39:35.005260Z"
    },
    "papermill": {
     "duration": 3.361268,
     "end_time": "2023-11-23T04:39:35.008728",
     "exception": false,
     "start_time": "2023-11-23T04:39:31.647460",
     "status": "completed"
    },
    "tags": []
   },
   "outputs": [
    {
     "name": "stdout",
     "output_type": "stream",
     "text": [
      "1/1 [==============================] - 1s 1s/step\n"
     ]
    }
   ],
   "source": [
    "# def tranfer_image(image_path):\n",
    "image = tf.keras.preprocessing.image.load_img(path, target_size=(224, 224))\n",
    "image = tf.keras.preprocessing.image.img_to_array(image)\n",
    "image = image.reshape((1,) + image.shape)\n",
    "image /= 255.0\n",
    "# return image\n",
    "\n",
    "result = best_model.predict(image)"
   ]
  },
  {
   "cell_type": "code",
   "execution_count": 36,
   "id": "05871911",
   "metadata": {
    "execution": {
     "iopub.execute_input": "2023-11-23T04:39:38.892730Z",
     "iopub.status.busy": "2023-11-23T04:39:38.891725Z",
     "iopub.status.idle": "2023-11-23T04:39:38.900836Z",
     "shell.execute_reply": "2023-11-23T04:39:38.899796Z"
    },
    "papermill": {
     "duration": 1.924593,
     "end_time": "2023-11-23T04:39:38.903166",
     "exception": false,
     "start_time": "2023-11-23T04:39:36.978573",
     "status": "completed"
    },
    "tags": []
   },
   "outputs": [
    {
     "name": "stdout",
     "output_type": "stream",
     "text": [
      "[[4.3130219e-02 9.8357427e-01 4.2409968e-02 1.0466016e-01 1.3759463e-01\n",
      "  4.5806568e-02 2.0715746e-01 1.9752420e-02 9.2221198e-05 4.1465331e-03\n",
      "  9.2903879e-03 2.6517239e-04 4.0704431e-03 4.6561233e-04 5.0939264e-04\n",
      "  9.9430001e-01 2.6650918e-03 9.7891611e-01 6.9751698e-01 2.5725062e-04]]\n"
     ]
    }
   ],
   "source": [
    "print(result)"
   ]
  },
  {
   "cell_type": "code",
   "execution_count": 37,
   "id": "c72861f9",
   "metadata": {
    "execution": {
     "iopub.execute_input": "2023-11-23T04:39:42.950696Z",
     "iopub.status.busy": "2023-11-23T04:39:42.949785Z",
     "iopub.status.idle": "2023-11-23T04:39:42.956887Z",
     "shell.execute_reply": "2023-11-23T04:39:42.955950Z"
    },
    "papermill": {
     "duration": 2.043488,
     "end_time": "2023-11-23T04:39:42.959006",
     "exception": false,
     "start_time": "2023-11-23T04:39:40.915518",
     "status": "completed"
    },
    "tags": []
   },
   "outputs": [],
   "source": [
    "def decode_predictions(predict):\n",
    "    result = []\n",
    "    confidence = []\n",
    "    for i in range(len(predict)):\n",
    "        result.append([])\n",
    "        for j in range(len(predict[i])):\n",
    "            if predict[i][j] > 0.5:\n",
    "                result[i].append(labels[j])\n",
    "                confidence.append(round(predict[i][j], 4))\n",
    "    predict_label, confidence = result[0], confidence\n",
    "    return predict_label, confidence"
   ]
  },
  {
   "cell_type": "code",
   "execution_count": 38,
   "id": "1e7d79d2",
   "metadata": {
    "execution": {
     "iopub.execute_input": "2023-11-23T04:39:46.941268Z",
     "iopub.status.busy": "2023-11-23T04:39:46.940478Z",
     "iopub.status.idle": "2023-11-23T04:39:46.945474Z",
     "shell.execute_reply": "2023-11-23T04:39:46.944531Z"
    },
    "papermill": {
     "duration": 2.063209,
     "end_time": "2023-11-23T04:39:46.947602",
     "exception": false,
     "start_time": "2023-11-23T04:39:44.884393",
     "status": "completed"
    },
    "tags": []
   },
   "outputs": [],
   "source": [
    "predict_label, confidence = decode_predictions(result)"
   ]
  },
  {
   "cell_type": "code",
   "execution_count": 39,
   "id": "fccaefa7",
   "metadata": {
    "execution": {
     "iopub.execute_input": "2023-11-23T04:39:50.891373Z",
     "iopub.status.busy": "2023-11-23T04:39:50.890467Z",
     "iopub.status.idle": "2023-11-23T04:39:50.895972Z",
     "shell.execute_reply": "2023-11-23T04:39:50.895000Z"
    },
    "papermill": {
     "duration": 2.045065,
     "end_time": "2023-11-23T04:39:50.898267",
     "exception": false,
     "start_time": "2023-11-23T04:39:48.853202",
     "status": "completed"
    },
    "tags": []
   },
   "outputs": [
    {
     "name": "stdout",
     "output_type": "stream",
     "text": [
      "['Khôngđốm_Baking-Doesnothaveleopard-spotting', 'Thiếubóng_toofewballs', 'Bánhkhôngtròn_Distortedshape', 'Bánhbé_Size-Toosmall']\n"
     ]
    }
   ],
   "source": [
    "print(predict_label)"
   ]
  },
  {
   "cell_type": "code",
   "execution_count": 40,
   "id": "b59347be",
   "metadata": {
    "execution": {
     "iopub.execute_input": "2023-11-23T04:39:54.823415Z",
     "iopub.status.busy": "2023-11-23T04:39:54.823030Z",
     "iopub.status.idle": "2023-11-23T04:39:54.829027Z",
     "shell.execute_reply": "2023-11-23T04:39:54.828144Z"
    },
    "papermill": {
     "duration": 2.028214,
     "end_time": "2023-11-23T04:39:54.830913",
     "exception": false,
     "start_time": "2023-11-23T04:39:52.802699",
     "status": "completed"
    },
    "tags": []
   },
   "outputs": [
    {
     "data": {
      "text/plain": [
       "[0.9836, 0.9943, 0.9789, 0.6975]"
      ]
     },
     "execution_count": 40,
     "metadata": {},
     "output_type": "execute_result"
    }
   ],
   "source": [
    "confidence"
   ]
  },
  {
   "cell_type": "code",
   "execution_count": 41,
   "id": "6fc14bd5",
   "metadata": {
    "execution": {
     "iopub.execute_input": "2023-11-23T04:39:58.733202Z",
     "iopub.status.busy": "2023-11-23T04:39:58.732819Z",
     "iopub.status.idle": "2023-11-23T04:39:58.738942Z",
     "shell.execute_reply": "2023-11-23T04:39:58.737969Z"
    },
    "papermill": {
     "duration": 2.016148,
     "end_time": "2023-11-23T04:39:58.740985",
     "exception": false,
     "start_time": "2023-11-23T04:39:56.724837",
     "status": "completed"
    },
    "tags": []
   },
   "outputs": [
    {
     "name": "stdout",
     "output_type": "stream",
     "text": [
      "Label: Khôngđốm_Baking-Doesnothaveleopard-spotting                      Confidence: 98%\n",
      "Label: Thiếubóng_toofewballs                      Confidence: 99%\n",
      "Label: Bánhkhôngtròn_Distortedshape                      Confidence: 98%\n",
      "Label: Bánhbé_Size-Toosmall                      Confidence: 70%\n"
     ]
    }
   ],
   "source": [
    "predict_label, confidence = decode_predictions(result)\n",
    "for i in range(len(predict_label)):\n",
    "    print(\n",
    "        f\"Label: {predict_label[i]}                      Confidence: {round(confidence[i]*100)}%\"\n",
    "    )"
   ]
  },
  {
   "cell_type": "code",
   "execution_count": 42,
   "id": "42935387",
   "metadata": {
    "execution": {
     "iopub.execute_input": "2023-11-23T04:40:02.682092Z",
     "iopub.status.busy": "2023-11-23T04:40:02.681693Z",
     "iopub.status.idle": "2023-11-23T04:40:02.686730Z",
     "shell.execute_reply": "2023-11-23T04:40:02.685759Z"
    },
    "papermill": {
     "duration": 2.03248,
     "end_time": "2023-11-23T04:40:02.688801",
     "exception": false,
     "start_time": "2023-11-23T04:40:00.656321",
     "status": "completed"
    },
    "tags": []
   },
   "outputs": [
    {
     "name": "stdout",
     "output_type": "stream",
     "text": [
      "[['Khôngđốm_Baking-Doesnothaveleopard-spotting', 'Thiếubóng_toofewballs', 'Bánhkhôngtròn_Distortedshape']]\n"
     ]
    }
   ],
   "source": [
    "print(real_labels_name)"
   ]
  },
  {
   "cell_type": "code",
   "execution_count": 43,
   "id": "cca1d6e7",
   "metadata": {
    "execution": {
     "iopub.execute_input": "2023-11-23T04:40:06.667938Z",
     "iopub.status.busy": "2023-11-23T04:40:06.667571Z",
     "iopub.status.idle": "2023-11-23T04:40:06.674675Z",
     "shell.execute_reply": "2023-11-23T04:40:06.673663Z"
    },
    "papermill": {
     "duration": 2.080268,
     "end_time": "2023-11-23T04:40:06.676700",
     "exception": false,
     "start_time": "2023-11-23T04:40:04.596432",
     "status": "completed"
    },
    "tags": []
   },
   "outputs": [],
   "source": [
    "def display_predict(_id):\n",
    "    path = image_path_test + _id_name\n",
    "    test_id = test_data[test_data[\"_id\"] == _id_name]\n",
    "    real_labels = test_id[labels]\n",
    "    real_labels = np.array(real_labels)\n",
    "\n",
    "    real_labels_name = []\n",
    "    for i in range(len(real_labels)):\n",
    "        real_labels_name.append([])\n",
    "        for j in range(len(real_labels[i])):\n",
    "            if real_labels[i][j] == 1:\n",
    "                real_labels_name[i].append(labels[j])\n",
    "\n",
    "    print(real_labels_name)"
   ]
  },
  {
   "cell_type": "code",
   "execution_count": 44,
   "id": "5141d06e",
   "metadata": {
    "execution": {
     "iopub.execute_input": "2023-11-23T04:40:10.687867Z",
     "iopub.status.busy": "2023-11-23T04:40:10.687009Z",
     "iopub.status.idle": "2023-11-23T04:40:12.033861Z",
     "shell.execute_reply": "2023-11-23T04:40:12.032479Z"
    },
    "papermill": {
     "duration": 3.346475,
     "end_time": "2023-11-23T04:40:12.036472",
     "exception": false,
     "start_time": "2023-11-23T04:40:08.689997",
     "status": "completed"
    },
    "tags": []
   },
   "outputs": [],
   "source": [
    "best_model.save(\"/kaggle/working/model_saver/best_model.keras\")"
   ]
  }
 ],
 "metadata": {
  "kaggle": {
   "accelerator": "nvidiaTeslaT4",
   "dataSources": [
    {
     "datasetId": 4001201,
     "sourceId": 6978261,
     "sourceType": "datasetVersion"
    }
   ],
   "dockerImageVersionId": 30588,
   "isGpuEnabled": true,
   "isInternetEnabled": true,
   "language": "python",
   "sourceType": "notebook"
  },
  "kernelspec": {
   "display_name": "Python 3",
   "language": "python",
   "name": "python3"
  },
  "language_info": {
   "codemirror_mode": {
    "name": "ipython",
    "version": 3
   },
   "file_extension": ".py",
   "mimetype": "text/x-python",
   "name": "python",
   "nbconvert_exporter": "python",
   "pygments_lexer": "ipython3",
   "version": "3.10.12"
  },
  "papermill": {
   "default_parameters": {},
   "duration": 19228.863048,
   "end_time": "2023-11-23T04:40:17.703957",
   "environment_variables": {},
   "exception": null,
   "input_path": "__notebook__.ipynb",
   "output_path": "__notebook__.ipynb",
   "parameters": {},
   "start_time": "2023-11-22T23:19:48.840909",
   "version": "2.4.0"
  }
 },
 "nbformat": 4,
 "nbformat_minor": 5
}
